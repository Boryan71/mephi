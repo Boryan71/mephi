{
 "cells": [
  {
   "cell_type": "code",
   "execution_count": 1,
   "id": "9e717ec1-053b-4440-8aa9-f37fc31b514d",
   "metadata": {},
   "outputs": [
    {
     "name": "stdout",
     "output_type": "stream",
     "text": [
      "Среднее значение: 15.5\n",
      "Медиана: 15.0\n",
      "Мода: 23\n",
      "Дисперсия: 30.789473684210527\n"
     ]
    }
   ],
   "source": [
    "import statistics\n",
    "\n",
    "# Исходная выборка данных\n",
    "data = [10, 7, 14, 15, 7, 10, 23, 15, 15, 21, 19, 18, 11, 23, 23, 23, 17, 18, 7, 14]\n",
    "\n",
    "# Среднее значение\n",
    "mean = sum(data) / len(data)\n",
    "print(f\"Среднее значение: {mean}\")\n",
    "\n",
    "# Медиана\n",
    "median = statistics.median(data)\n",
    "print(f\"Медиана: {median}\")\n",
    "\n",
    "# Мода\n",
    "mode = statistics.mode(data)\n",
    "print(f\"Мода: {mode}\")\n",
    "\n",
    "# Дисперсия\n",
    "variance = statistics.variance(data)\n",
    "print(f\"Дисперсия: {variance}\")"
   ]
  },
  {
   "cell_type": "code",
   "execution_count": 2,
   "id": "b25c8353-b445-4820-b6e5-8a25db49728c",
   "metadata": {},
   "outputs": [
    {
     "name": "stdout",
     "output_type": "stream",
     "text": [
      "Смещённое стандартное отклонение: 5.408326913195984\n",
      "Несмещённое стандартное отклонение: 5.548826333938604\n"
     ]
    }
   ],
   "source": [
    "import statistics\n",
    "\n",
    "# Исходные данные\n",
    "data = [10, 7, 14, 15, 7, 10, 23, 15, 15, 21, 19, 18, 11, 23, 23, 23, 17, 18, 7, 14]\n",
    "\n",
    "# Среднее значение\n",
    "mean = statistics.mean(data)\n",
    "\n",
    "# Выборочное (смещённое) стандартное отклонение\n",
    "std_dev_biased = statistics.pstdev(data, mean)\n",
    "\n",
    "# Несмещённое стандартное отклонение\n",
    "std_dev_unbiased = statistics.stdev(data)\n",
    "\n",
    "print(\"Смещённое стандартное отклонение:\", std_dev_biased)\n",
    "print(\"Несмещённое стандартное отклонение:\", std_dev_unbiased)"
   ]
  },
  {
   "cell_type": "code",
   "execution_count": 3,
   "id": "b966fff0-d8fb-489e-aff0-8be3a52f0c31",
   "metadata": {},
   "outputs": [
    {
     "name": "stdout",
     "output_type": "stream",
     "text": [
      "0.59\n"
     ]
    }
   ],
   "source": [
    "from scipy.stats import binom\n",
    "\n",
    "# Параметры биномиального распределения\n",
    "n = 30    # Общее количество испытаний\n",
    "p = 0.7   # Вероятность успеха (стандартного изделия)\n",
    "\n",
    "# Инициализация объекта биномиального распределения\n",
    "bino_dist = binom(n=n, p=p)\n",
    "\n",
    "# Сумма вероятностей для k = 21, 22, ..., 30\n",
    "prob = bino_dist.sf(20)  # sf() возвращает сумму вероятностей для x >= 21\n",
    "\n",
    "# Округление до двух знаков после запятой\n",
    "result = round(prob, 2)\n",
    "\n",
    "print(result)"
   ]
  },
  {
   "cell_type": "code",
   "execution_count": 4,
   "id": "71d51a73-953a-4f27-864a-6af7d3cdb3fd",
   "metadata": {},
   "outputs": [
    {
     "name": "stdout",
     "output_type": "stream",
     "text": [
      "0.54\n"
     ]
    }
   ],
   "source": [
    "import math\n",
    "\n",
    "# Вычисляем приближенно e^(-2)\n",
    "exp_minus_two = math.exp(-2)\n",
    "\n",
    "# Рассчитываем C\n",
    "C = 4 * exp_minus_two\n",
    "\n",
    "# Округляем до двух знаков после запятой\n",
    "C_rounded = round(C, 2)\n",
    "\n",
    "print(C_rounded)"
   ]
  },
  {
   "cell_type": "code",
   "execution_count": 5,
   "id": "5cd8bf68-f54c-400f-8fc9-60aa60f1cdda",
   "metadata": {},
   "outputs": [
    {
     "name": "stdout",
     "output_type": "stream",
     "text": [
      "71.43\n"
     ]
    }
   ],
   "source": [
    "# Данные\n",
    "probability_of_win = 0.00007\n",
    "ticket_price = 135\n",
    "win_amount = 2000000\n",
    "\n",
    "# Ожидаемые затраты на билеты до выигрыша\n",
    "expected_cost = ticket_price / probability_of_win\n",
    "\n",
    "# Средний выигрыш\n",
    "average_winnings = win_amount - expected_cost\n",
    "\n",
    "# Переводим в тысячи рублей\n",
    "average_winnings_thousands = average_winnings / 1000\n",
    "\n",
    "# Округляем до двух знаков после запятой\n",
    "rounded_result = round(average_winnings_thousands, 2)\n",
    "\n",
    "print(rounded_result)"
   ]
  },
  {
   "cell_type": "code",
   "execution_count": 13,
   "id": "6f954dd2-65d6-4b6e-8633-1cc9998d589a",
   "metadata": {},
   "outputs": [
    {
     "name": "stdout",
     "output_type": "stream",
     "text": [
      "Оцененная вероятность: 0.266185\n"
     ]
    }
   ],
   "source": [
    "import random\n",
    "\n",
    "def simulate_shoots(num_shots=10, success_probability=0.7):\n",
    "    successful_shots = sum(1 for _ in range(num_shots) if random.random() < success_probability)\n",
    "    return successful_shots == 7\n",
    "\n",
    "def estimate_probability(num_simulations=1000000):\n",
    "    successes = sum(simulate_shoots() for _ in range(num_simulations))\n",
    "    return successes / num_simulations\n",
    "\n",
    "# Оценка вероятности\n",
    "estimated_probability = estimate_probability()\n",
    "print(f\"Оцененная вероятность: {estimated_probability}\")"
   ]
  },
  {
   "cell_type": "code",
   "execution_count": 14,
   "id": "6cd7e968-5867-47fc-bed5-7a0bd8b224db",
   "metadata": {},
   "outputs": [
    {
     "name": "stdout",
     "output_type": "stream",
     "text": [
      "Мат. ожидание объема шара: 2.80616 см³\n"
     ]
    }
   ],
   "source": [
    "import math\n",
    "\n",
    "# Значения a и b\n",
    "a = 1.7\n",
    "b = 1.8\n",
    "\n",
    "# Вычисление математического ожидания диаметра X\n",
    "EX = (a + b) / 2\n",
    "\n",
    "# Вычисление математического ожидания объема V\n",
    "EV = (math.pi / 6) * EX**3\n",
    "\n",
    "print(f\"Мат. ожидание объема шара: {EV:.5f} см³\")"
   ]
  },
  {
   "cell_type": "code",
   "execution_count": 15,
   "id": "2dc77657-3fa5-4094-a216-50325549909c",
   "metadata": {},
   "outputs": [
    {
     "name": "stdout",
     "output_type": "stream",
     "text": [
      "0.9179150013761012\n"
     ]
    }
   ],
   "source": [
    "from math import exp\n",
    "\n",
    "# Интенсивность вызовов в минуту\n",
    "lambda_per_min = 0.5\n",
    "\n",
    "# Интервал времени в минутах\n",
    "t = 5\n",
    "\n",
    "# Интенсивность для данного интервала времени\n",
    "lambda_t = lambda_per_min * t\n",
    "\n",
    "# Вероятность того, что не будет ни одного вызова\n",
    "p_zero_calls = exp(-lambda_t)\n",
    "\n",
    "# Вероятность того, что будет хотя бы один вызов\n",
    "p_at_least_one_call = 1 - p_zero_calls\n",
    "\n",
    "print(p_at_least_one_call)"
   ]
  },
  {
   "cell_type": "code",
   "execution_count": 19,
   "id": "1c4f6ffc-43d6-48fb-b6dd-2d3577eb2d6e",
   "metadata": {},
   "outputs": [
    {
     "name": "stdout",
     "output_type": "stream",
     "text": [
      "Минимальный необходимый объем выборки: 7\n",
      "Текущая точность для n=7: 2.487\n",
      "Точность удовлетворяет требованию.\n"
     ]
    }
   ],
   "source": [
    "import math\n",
    "from scipy.stats import norm\n",
    "\n",
    "# Данные задачи\n",
    "epsilon = 2.5     # Желаемая точность\n",
    "alpha = 0.02      # Уровень значимости\n",
    "sigma = math.sqrt(8)  # Стандартное отклонение\n",
    "\n",
    "# Шаг 1: Нахождение критического коэффициента z_alpha/2\n",
    "z_alpha_2 = norm.ppf(1 - alpha / 2)\n",
    "\n",
    "# Шаг 2: Расчет минимального объема выборки n\n",
    "n = math.ceil((z_alpha_2 * sigma / epsilon)**2)\n",
    "\n",
    "# Шаг 3: Проверка точности для полученного n\n",
    "current_epsilon = z_alpha_2 * sigma / math.sqrt(n)\n",
    "\n",
    "# Вывод результатов\n",
    "print(f'Минимальный необходимый объем выборки: {n}')\n",
    "print(f'Текущая точность для n={n}: {current_epsilon:.3f}')\n",
    "if current_epsilon <= epsilon:\n",
    "    print('Точность удовлетворяет требованию.')\n",
    "else:\n",
    "    print('Точность не удовлетворяет требованию. Необходимо увеличить n.')"
   ]
  },
  {
   "cell_type": "code",
   "execution_count": 20,
   "id": "26348246-335a-4330-908f-f6aa77796e30",
   "metadata": {},
   "outputs": [
    {
     "name": "stdout",
     "output_type": "stream",
     "text": [
      "Верхняя граница: 53.39\n"
     ]
    }
   ],
   "source": [
    "import math\n",
    "\n",
    "# Данные\n",
    "mean = 50\n",
    "variance = 30\n",
    "sample_size = 10\n",
    "\n",
    "# Стандартное отклонение\n",
    "std_dev = math.sqrt(variance)\n",
    "\n",
    "# Стандартная ошибка среднего\n",
    "standard_error = std_dev / math.sqrt(sample_size)\n",
    "\n",
    "# Критическое значение z для уровня значимости 0.05 (двусторонний тест)\n",
    "z_critical = 1.96\n",
    "\n",
    "# Верхняя граница доверительного интервала\n",
    "upper_bound = mean + z_critical * standard_error\n",
    "\n",
    "print(f\"Верхняя граница: {upper_bound:.2f}\")"
   ]
  },
  {
   "cell_type": "code",
   "execution_count": 30,
   "id": "76ee31e8-2e50-4b45-9023-76109ed3e065",
   "metadata": {},
   "outputs": [
    {
     "name": "stdout",
     "output_type": "stream",
     "text": [
      "Верхняя граница: 0.1888\n"
     ]
    }
   ],
   "source": [
    "import math\n",
    "from scipy.stats import norm\n",
    "\n",
    "# Данные\n",
    "n = 80  # Размер выборки\n",
    "x = 24  # Количество испорченных товаров (80 - 56)\n",
    "\n",
    "# Доля испорченных товаров в выборке\n",
    "p_hat = x / n\n",
    "\n",
    "# Уровень доверия\n",
    "confidence_level = 0.97\n",
    "\n",
    "# Критическое значение z для данного уровня доверия\n",
    "z_critical = norm.ppf((1 + 0.97) / 2)\n",
    "\n",
    "# Стандартная ошибка\n",
    "SE = math.sqrt(p_hat * (1 - p_hat) / n)\n",
    "\n",
    "# Нижняя и верхняя границы доверительного интервала\n",
    "lower_bound = p_hat - z_critical * SE\n",
    "upper_bound = p_hat + z_critical * SE\n",
    "\n",
    "print(f\"Верхняя граница: {lower_bound:.4f}\")"
   ]
  },
  {
   "cell_type": "code",
   "execution_count": 31,
   "id": "da4d2b70-9bf1-4b68-9cbe-cfd0ddcfc8ef",
   "metadata": {},
   "outputs": [
    {
     "name": "stdout",
     "output_type": "stream",
     "text": [
      "Нижняя граница: 0.5502681653991999\n",
      "Верхняя граница: 1.4604881460156591\n"
     ]
    }
   ],
   "source": [
    "import numpy as np\n",
    "from scipy.stats import chi2\n",
    "\n",
    "# Данные\n",
    "n = 10  # количество измерений\n",
    "s = 0.8  # среднее квадратическое отклонение\n",
    "\n",
    "# Число степеней свободы\n",
    "df = n - 1\n",
    "\n",
    "# Уровень значимости\n",
    "alpha = 0.05\n",
    "\n",
    "# Квантили распределения хи-квадрат\n",
    "chi2_lower = chi2.ppf(alpha/2, df=df)\n",
    "chi2_upper = chi2.ppf(1-alpha/2, df=df)\n",
    "\n",
    "# Доверительные границы для стандартного отклонения\n",
    "lower_bound = np.sqrt(s**2 * df / chi2_upper)\n",
    "upper_bound = np.sqrt(s**2 * df / chi2_lower)\n",
    "\n",
    "print(\"Нижняя граница:\", lower_bound)\n",
    "print(\"Верхняя граница:\", upper_bound)"
   ]
  },
  {
   "cell_type": "code",
   "execution_count": 39,
   "id": "1753bbeb-255a-4c7e-8d4c-6aa46d802b9c",
   "metadata": {},
   "outputs": [
    {
     "name": "stdout",
     "output_type": "stream",
     "text": [
      "Дисперсии не различаются, используем обычный t-тест.\n",
      "П-значение: 0.0762\n"
     ]
    }
   ],
   "source": [
    "import numpy as np\n",
    "from scipy import stats\n",
    "\n",
    "# Данные\n",
    "hospital1 = [14, 16, 15, 17, 18, 15, 14, 15]\n",
    "hospital2 = [15, 17, 16, 17, 19, 19, 16, 16]\n",
    "\n",
    "# Проверка равенства дисперсий\n",
    "levene_test = stats.levene(hospital1, hospital2)\n",
    "if levene_test.pvalue < 0.05:\n",
    "    print(\"Дисперсии различаются, используем t-тест с неравными дисперсиями.\")\n",
    "else:\n",
    "    print(\"Дисперсии не различаются, используем обычный t-тест.\")\n",
    "\n",
    "# Непарный t-тест\n",
    "t_statistic, p_value = stats.ttest_ind(hospital1, hospital2, equal_var=levene_test.pvalue >= 0.05)\n",
    "\n",
    "# Вывод p-значения\n",
    "print(f\"П-значение: {p_value:.4f}\")"
   ]
  },
  {
   "cell_type": "code",
   "execution_count": 42,
   "id": "cfa70f0a-f999-4624-a9a8-08ddc4535941",
   "metadata": {},
   "outputs": [
    {
     "name": "stdout",
     "output_type": "stream",
     "text": [
      "Статистика Левена: 9.659\n",
      "p-value: 0.0061\n"
     ]
    }
   ],
   "source": [
    "import numpy as np\n",
    "from scipy.stats import levene\n",
    "\n",
    "# Данные\n",
    "class1 = [79, 88, 39, 40, 40, 90, 39, 79, 75, 53]\n",
    "class2 = [62, 64, 87, 49, 72, 65, 63, 56, 77, 41]\n",
    "\n",
    "# Применение теста Левена\n",
    "statistic, p_value = levene(class1, class2)\n",
    "\n",
    "print(f\"Статистика Левена: {statistic:.3f}\")\n",
    "print(f\"p-value: {p_value:.4f}\")"
   ]
  },
  {
   "cell_type": "code",
   "execution_count": 43,
   "id": "74c85e52-7e30-4e98-afac-640fd587526f",
   "metadata": {},
   "outputs": [
    {
     "name": "stdout",
     "output_type": "stream",
     "text": [
      "0.42\n"
     ]
    }
   ],
   "source": [
    "def estimate_p(n1, k1, n2, k2):\n",
    "    # Общие количество испытаний и успехов\n",
    "    n_total = n1 + n2\n",
    "    k_total = k1 + k2\n",
    "    \n",
    "    # Оценка параметра p\n",
    "    p_hat = k_total / n_total\n",
    "    \n",
    "    return round(p_hat, 2)\n",
    "\n",
    "# Данные\n",
    "n1 = 16\n",
    "k1 = 10\n",
    "n2 = 34\n",
    "k2 = 11\n",
    "\n",
    "# Оцениваем параметр p\n",
    "p_estimate = estimate_p(n1, k1, n2, k2)\n",
    "print(p_estimate)"
   ]
  },
  {
   "cell_type": "code",
   "execution_count": 44,
   "id": "dd194e97-2956-4bd5-9d69-c84802b8a897",
   "metadata": {},
   "outputs": [
    {
     "name": "stdout",
     "output_type": "stream",
     "text": [
      "0.19\n"
     ]
    }
   ],
   "source": [
    "# Среднее количество пассажиров\n",
    "mean_passengers = 1700\n",
    "\n",
    "# Максимальное количество пассажиров\n",
    "max_passengers = 2100\n",
    "\n",
    "# Неравенство Маркова\n",
    "upper_bound = mean_passengers / max_passengers\n",
    "\n",
    "# Вероятность того, что число пассажиров будет не более 2100\n",
    "probability = 1 - upper_bound\n",
    "\n",
    "# Округлим до двух знаков после запятой\n",
    "result = round(probability, 2)\n",
    "\n",
    "print(result)"
   ]
  },
  {
   "cell_type": "code",
   "execution_count": 46,
   "id": "894b530a-375c-4021-b324-cb5c25b1b448",
   "metadata": {},
   "outputs": [],
   "source": [
    "import pandas as pd\n",
    "\n",
    "data = {\n",
    "    '№': [1, 2, 3, 4, 5, 6, 7, 8, 9, 10, 11, 12, 13, 14, 15],\n",
    "    'Площадь, м2 (S)': [2310, 2333, 2356, 2379, 2402, 2425, 2448, 2471, 2494, 2517, 2540, 2543, 2602, 2615, 2625],\n",
    "    'Офисы (O)': [2, 2, 3, 3, 2, 4, 2, 2, 3, 4, 2, 3, 4, 2, 4],\n",
    "    'Входы (E)': [2, 2, 2, 2, 3, 3, 2, 2, 3, 4, 3, 4, 2, 3, 4],\n",
    "    'Эксплуатация, лет (Y)': [20, 12, 33, 43, 53, 23, 37, 34, 23, 55, 22, 41, 29, 17, 20],\n",
    "    'Цена, у.е. (C)': [142000, 144000, 151000, 151000, 139000, 169000, 126000, 142000, 163000, 169000, 149000, 152000, 156000, 162000, 172000]\n",
    "}\n",
    "\n",
    "df = pd.DataFrame(data)"
   ]
  },
  {
   "cell_type": "code",
   "execution_count": 49,
   "id": "43b66a57-8ea5-493a-b00d-4ea2fbf875be",
   "metadata": {},
   "outputs": [
    {
     "data": {
      "text/html": [
       "<div>\n",
       "<style scoped>\n",
       "    .dataframe tbody tr th:only-of-type {\n",
       "        vertical-align: middle;\n",
       "    }\n",
       "\n",
       "    .dataframe tbody tr th {\n",
       "        vertical-align: top;\n",
       "    }\n",
       "\n",
       "    .dataframe thead th {\n",
       "        text-align: right;\n",
       "    }\n",
       "</style>\n",
       "<table border=\"1\" class=\"dataframe\">\n",
       "  <thead>\n",
       "    <tr style=\"text-align: right;\">\n",
       "      <th></th>\n",
       "      <th>Площадь, м2 (S)</th>\n",
       "      <th>Офисы (O)</th>\n",
       "      <th>Входы (E)</th>\n",
       "      <th>Эксплуатация, лет (Y)</th>\n",
       "    </tr>\n",
       "  </thead>\n",
       "  <tbody>\n",
       "    <tr>\n",
       "      <th>0</th>\n",
       "      <td>2310</td>\n",
       "      <td>2</td>\n",
       "      <td>2</td>\n",
       "      <td>20</td>\n",
       "    </tr>\n",
       "    <tr>\n",
       "      <th>1</th>\n",
       "      <td>2333</td>\n",
       "      <td>2</td>\n",
       "      <td>2</td>\n",
       "      <td>12</td>\n",
       "    </tr>\n",
       "    <tr>\n",
       "      <th>2</th>\n",
       "      <td>2356</td>\n",
       "      <td>3</td>\n",
       "      <td>2</td>\n",
       "      <td>33</td>\n",
       "    </tr>\n",
       "    <tr>\n",
       "      <th>3</th>\n",
       "      <td>2379</td>\n",
       "      <td>3</td>\n",
       "      <td>2</td>\n",
       "      <td>43</td>\n",
       "    </tr>\n",
       "    <tr>\n",
       "      <th>4</th>\n",
       "      <td>2402</td>\n",
       "      <td>2</td>\n",
       "      <td>3</td>\n",
       "      <td>53</td>\n",
       "    </tr>\n",
       "  </tbody>\n",
       "</table>\n",
       "</div>"
      ],
      "text/plain": [
       "   Площадь, м2 (S)  Офисы (O)  Входы (E)  Эксплуатация, лет (Y)\n",
       "0             2310          2          2                     20\n",
       "1             2333          2          2                     12\n",
       "2             2356          3          2                     33\n",
       "3             2379          3          2                     43\n",
       "4             2402          2          3                     53"
      ]
     },
     "execution_count": 49,
     "metadata": {},
     "output_type": "execute_result"
    }
   ],
   "source": [
    "df_col = df.drop('№', axis=1).drop('Цена, у.е. (C)', axis=1)\n",
    "df_col.head()"
   ]
  },
  {
   "cell_type": "code",
   "execution_count": 60,
   "id": "8a327ede-ff18-4bfc-a19b-15a9a29c7ed0",
   "metadata": {},
   "outputs": [],
   "source": [
    "# Создаем матрицу наблюдений (факторов) и вектор правильных ответов (целевую переменную)\n",
    "X = df_col\n",
    "y = df['Цена, у.е. (C)']"
   ]
  },
  {
   "cell_type": "code",
   "execution_count": 61,
   "id": "8e67a63a-4f34-42f9-8d6e-dc2e1863bc66",
   "metadata": {},
   "outputs": [
    {
     "data": {
      "text/plain": [
       "array([   82.91697707,  8179.01108602,  5485.93405085, -4531.55281424])"
      ]
     },
     "execution_count": 61,
     "metadata": {},
     "output_type": "execute_result"
    }
   ],
   "source": [
    "# Создаём модель линейной регрессии\n",
    "from sklearn.linear_model import LinearRegression\n",
    "model = LinearRegression()\n",
    "\n",
    "# Вычисляем коэффициенты регрессии\n",
    "model.fit(X, y)\n",
    "w = model.coef_\n",
    "w"
   ]
  },
  {
   "cell_type": "code",
   "execution_count": 80,
   "id": "2bbc6f22-ad7b-487a-b5e3-c7fc8844dc5b",
   "metadata": {},
   "outputs": [
    {
     "name": "stdout",
     "output_type": "stream",
     "text": [
      "Максимальный (по модулю) коэффициент: [ 0.00642492  0.6337608   0.42508439 -0.35113298]\n"
     ]
    }
   ],
   "source": [
    "import pandas as pd\n",
    "from sklearn.preprocessing import StandardScaler\n",
    "from sklearn.linear_model import LinearRegression\n",
    "\n",
    "# Исходный DataFrame\n",
    "data = {\n",
    "    'Площадь, м2 (S)': [2310, 2333, 2356, 2379, 2402, 2425, 2448, 2471, 2494, 2517, 2540, 2543, 2602, 2615, 2625],\n",
    "    'Офисы (O)': [2, 2, 3, 3, 2, 4, 2, 2, 3, 4, 2, 3, 4, 2, 4],\n",
    "    'Входы (E)': [2, 2, 2, 2, 3, 3, 2, 2, 3, 4, 3, 4, 2, 3, 4],\n",
    "    'Эксплуатация, лет (Y)': [20, 12, 33, 43, 53, 23, 37, 34, 23, 55, 22, 41, 29, 17, 20],\n",
    "    'Цена, у.е. (C)': [142000, 144000, 151000, 151000, 139000, 169000, 126000, 142000, 163000, 169000, 149000, 152000, 156000, 162000, 172000]\n",
    "}\n",
    "\n",
    "df = pd.DataFrame(data)\n",
    "\n",
    "# Стандартизация всех числовых колонок\n",
    "scaler = StandardScaler()\n",
    "scaled_features = scaler.fit_transform(df)\n",
    "scaled_df = pd.DataFrame(scaled_features, columns=df.columns)\n",
    "\n",
    "# Разделяем целевую переменную и предикторы\n",
    "target = scaled_df['Цена, у.е. (C)']\n",
    "features = scaled_df.drop('Цена, у.е. (C)', axis=1)\n",
    "\n",
    "# Построение модели линейной регрессии\n",
    "model = LinearRegression()\n",
    "model.fit(features, target)\n",
    "\n",
    "# Коэффициенты регрессии\n",
    "coefficients = model.coef_\n",
    "\n",
    "# Находим максимальный (по модулю) коэффициент\n",
    "max_coefficient = max(coefficients, key=abs)\n",
    "\n",
    "print(\"Максимальный (по модулю) коэффициент:\", coefficients)"
   ]
  },
  {
   "cell_type": "code",
   "execution_count": 81,
   "id": "15b40731-6341-4a4e-9307-5f753428cd1a",
   "metadata": {},
   "outputs": [
    {
     "name": "stdout",
     "output_type": "stream",
     "text": [
      "Максимальный (по модулю) коэффициент: const                    115873.427226\n",
      "Площадь, м2 (S)               0.805737\n",
      "Офисы (O)                  9489.605208\n",
      "Входы (E)                  6867.644889\n",
      "Эксплуатация, лет (Y)      -348.698909\n",
      "dtype: float64\n"
     ]
    }
   ],
   "source": [
    "import pandas as pd\n",
    "import statsmodels.api as sm\n",
    "\n",
    "# Исходный DataFrame\n",
    "data = {\n",
    "    'Площадь, м2 (S)': [2310, 2333, 2356, 2379, 2402, 2425, 2448, 2471, 2494, 2517, 2540, 2543, 2602, 2615, 2625],\n",
    "    'Офисы (O)': [2, 2, 3, 3, 2, 4, 2, 2, 3, 4, 2, 3, 4, 2, 4],\n",
    "    'Входы (E)': [2, 2, 2, 2, 3, 3, 2, 2, 3, 4, 3, 4, 2, 3, 4],\n",
    "    'Эксплуатация, лет (Y)': [20, 12, 33, 43, 53, 23, 37, 34, 23, 55, 22, 41, 29, 17, 20],\n",
    "    'Цена, у.е. (C)': [142000, 144000, 151000, 151000, 139000, 169000, 126000, 142000, 163000, 169000, 149000, 152000, 156000, 162000, 172000]\n",
    "}\n",
    "\n",
    "df = pd.DataFrame(data)\n",
    "\n",
    "# Разделяем целевую переменную и предикторы\n",
    "y = df['Цена, у.е. (C)']\n",
    "X = df.drop(columns=['Цена, у.е. (C)'])\n",
    "\n",
    "# Добавляем константу для свободного члена\n",
    "X = sm.add_constant(X)\n",
    "\n",
    "# Построение модели линейной регрессии\n",
    "model = sm.OLS(y, X).fit()\n",
    "\n",
    "# Коэффициенты регрессии\n",
    "coefficients = model.params\n",
    "\n",
    "# Находим максимальный (по модулю) коэффициент\n",
    "max_coefficient = coefficients.abs().max()\n",
    "\n",
    "print(\"Максимальный (по модулю) коэффициент:\", coefficients)"
   ]
  },
  {
   "cell_type": "code",
   "execution_count": 77,
   "id": "b4f1dfce-4017-41ab-bdd6-2b1a1de96bfe",
   "metadata": {},
   "outputs": [
    {
     "name": "stdout",
     "output_type": "stream",
     "text": [
      "Максимальный (по модулю) коэффициент: 0.8057374088715319\n"
     ]
    }
   ],
   "source": [
    "import pandas as pd\n",
    "from sklearn.linear_model import LinearRegression\n",
    "\n",
    "# Исходный DataFrame\n",
    "data = {\n",
    "    'Площадь, м2 (S)': [2310, 2333, 2356, 2379, 2402, 2425, 2448, 2471, 2494, 2517, 2540, 2543, 2602, 2615, 2625],\n",
    "    'Офисы (O)': [2, 2, 3, 3, 2, 4, 2, 2, 3, 4, 2, 3, 4, 2, 4],\n",
    "    'Входы (E)': [2, 2, 2, 2, 3, 3, 2, 2, 3, 4, 3, 4, 2, 3, 4],\n",
    "    'Эксплуатация, лет (Y)': [20, 12, 33, 43, 53, 23, 37, 34, 23, 55, 22, 41, 29, 17, 20],\n",
    "    'Цена, у.е. (C)': [142000, 144000, 151000, 151000, 139000, 169000, 126000, 142000, 163000, 169000, 149000, 152000, 156000, 162000, 172000]\n",
    "}\n",
    "\n",
    "df = pd.DataFrame(data)\n",
    "\n",
    "# Разделяем целевую переменную и предикторы\n",
    "y = df['Цена, у.е. (C)']\n",
    "X = df.drop(columns=['Цена, у.е. (C)'])\n",
    "\n",
    "# Построение модели линейной регрессии\n",
    "model = LinearRegression().fit(X, y)\n",
    "\n",
    "# Коэффициенты регрессии\n",
    "coefficients = model.coef_\n",
    "\n",
    "# Находим максимальный (по модулю) коэффициент\n",
    "max_coefficient = max(abs(coeff) for coeff in coefficients)\n",
    "\n",
    "print(\"Максимальный (по модулю) коэффициент:\", coefficients[0])"
   ]
  },
  {
   "cell_type": "code",
   "execution_count": 85,
   "id": "f7757abb-7f27-444f-86c4-ffb5acaaee78",
   "metadata": {},
   "outputs": [
    {
     "name": "stdout",
     "output_type": "stream",
     "text": [
      "6.245686863702165\n"
     ]
    }
   ],
   "source": [
    "import pandas as pd\n",
    "import statsmodels.formula.api as smf\n",
    "\n",
    "# Исходный DataFrame\n",
    "data = {\n",
    "    'S': [2310, 2333, 2356, 2379, 2402, 2425, 2448, 2471, 2494, 2517, 2540, 2543, 2602, 2615, 2625],\n",
    "    'O': [2, 2, 3, 3, 2, 4, 2, 2, 3, 4, 2, 3, 4, 2, 4],\n",
    "    'E': [2, 2, 2, 2, 3, 3, 2, 2, 3, 4, 3, 4, 2, 3, 4],\n",
    "    'Y': [20, 12, 33, 43, 53, 23, 37, 34, 23, 55, 22, 41, 29, 17, 20],\n",
    "    'C': [142000, 144000, 151000, 151000, 139000, 169000, 126000, 142000, 163000, 169000, 149000, 152000, 156000, 162000, 172000]\n",
    "}\n",
    "\n",
    "df = pd.DataFrame(data)\n",
    "\n",
    "# Разделяем целевую переменную и предикторы\n",
    "y = df['C']\n",
    "X = df.drop(columns=['C'])\n",
    "\n",
    "# Добавляем константу для свободного члена\n",
    "X = sm.add_constant(X)\n",
    "\n",
    "# Построение модели линейной регрессии\n",
    "model = sm.OLS(y, X).fit()\n",
    "\n",
    "# Результаты F-теста\n",
    "F_stat = model.fvalue\n",
    "F_pvalue = model.f_pvalue\n",
    "\n",
    "# Табличное значение F-критерия при уровне значимости alpha=0.05 и степенях свободы (1, 13)\n",
    "from scipy.stats import f\n",
    "alpha = 0.05\n",
    "dof_numerator = 1  # Число факторов (без константы)\n",
    "dof_denominator = len(df) - dof_numerator - 1  # Остаточная степень свободы\n",
    "F_critical = f.isf(alpha, dof_numerator, dof_denominator)\n",
    "\n",
    "# Разница между расчетным и табличным значениями F-критерия\n",
    "F_difference = F_stat - F_critical\n",
    "\n",
    "print(F_difference)"
   ]
  },
  {
   "cell_type": "code",
   "execution_count": 86,
   "id": "036b1c16-2ba5-433b-9888-fd2f3e2a53dd",
   "metadata": {},
   "outputs": [
    {
     "name": "stdout",
     "output_type": "stream",
     "text": [
      "[161641.21202583]\n"
     ]
    }
   ],
   "source": [
    "import pandas as pd\n",
    "from sklearn.linear_model import LinearRegression\n",
    "\n",
    "# Исходный DataFrame\n",
    "data = {\n",
    "    'Площадь, м2 (S)': [2310, 2333, 2356, 2379, 2402, 2425, 2448, 2471, 2494, 2517, 2540, 2543, 2602, 2615, 2625],\n",
    "    'Офисы (O)': [2, 2, 3, 3, 2, 4, 2, 2, 3, 4, 2, 3, 4, 2, 4],\n",
    "    'Входы (E)': [2, 2, 2, 2, 3, 3, 2, 2, 3, 4, 3, 4, 2, 3, 4],\n",
    "    'Эксплуатация, лет (Y)': [20, 12, 33, 43, 53, 23, 37, 34, 23, 55, 22, 41, 29, 17, 20],\n",
    "    'Цена, у.е. (C)': [142000, 144000, 151000, 151000, 139000, 169000, 126000, 142000, 163000, 169000, 149000, 152000, 156000, 162000, 172000]\n",
    "}\n",
    "\n",
    "df = pd.DataFrame(data)\n",
    "\n",
    "# Новые данные для прогноза\n",
    "new_data = {'Площадь, м2 (S)': [2391], 'Офисы (O)': [3], 'Входы (E)': [3], 'Эксплуатация, лет (Y)': [15]}\n",
    "new_df = pd.DataFrame(new_data)\n",
    "\n",
    "# Разделяем целевую переменную и предикторы\n",
    "y = df['Цена, у.е. (C)']\n",
    "X = df.drop(columns=['Цена, у.е. (C)'])\n",
    "\n",
    "# Построение модели линейной регрессии\n",
    "model = LinearRegression().fit(X, y)\n",
    "\n",
    "# Прогноз для новых данных\n",
    "predicted_price = model.predict(new_df)\n",
    "\n",
    "print(predicted_price)"
   ]
  },
  {
   "cell_type": "code",
   "execution_count": 87,
   "id": "9b9c7a31-91ed-401f-a93f-2c69672a6c9d",
   "metadata": {},
   "outputs": [
    {
     "name": "stdout",
     "output_type": "stream",
     "text": [
      "Доля необъяснённой дисперсии: 0.1863880147580942\n"
     ]
    }
   ],
   "source": [
    "import pandas as pd\n",
    "from sklearn.linear_model import LinearRegression\n",
    "\n",
    "# Исходный DataFrame\n",
    "data = {\n",
    "    'Площадь, м2 (S)': [2310, 2333, 2356, 2379, 2402, 2425, 2448, 2471, 2494, 2517, 2540, 2543, 2602, 2615, 2625],\n",
    "    'Офисы (O)': [2, 2, 3, 3, 2, 4, 2, 2, 3, 4, 2, 3, 4, 2, 4],\n",
    "    'Входы (E)': [2, 2, 2, 2, 3, 3, 2, 2, 3, 4, 3, 4, 2, 3, 4],\n",
    "    'Эксплуатация, лет (Y)': [20, 12, 33, 43, 53, 23, 37, 34, 23, 55, 22, 41, 29, 17, 20],\n",
    "    'Цена, у.е. (C)': [142000, 144000, 151000, 151000, 139000, 169000, 126000, 142000, 163000, 169000, 149000, 152000, 156000, 162000, 172000]\n",
    "}\n",
    "\n",
    "df = pd.DataFrame(data)\n",
    "\n",
    "# Разделяем целевую переменную и предикторы\n",
    "y = df['Цена, у.е. (C)']\n",
    "X = df.drop(columns=['Цена, у.е. (C)'])\n",
    "\n",
    "# Построение модели линейной регрессии\n",
    "model = LinearRegression().fit(X, y)\n",
    "\n",
    "# Коэффициент детерминации (R^2)\n",
    "r_squared = model.score(X, y)\n",
    "\n",
    "# Доля необъяснённой дисперсии\n",
    "unexplained_variance = 1 - r_squared\n",
    "\n",
    "print(f'Доля необъяснённой дисперсии: {unexplained_variance}')"
   ]
  }
 ],
 "metadata": {
  "kernelspec": {
   "display_name": "Python 3 (ipykernel)",
   "language": "python",
   "name": "python3"
  },
  "language_info": {
   "codemirror_mode": {
    "name": "ipython",
    "version": 3
   },
   "file_extension": ".py",
   "mimetype": "text/x-python",
   "name": "python",
   "nbconvert_exporter": "python",
   "pygments_lexer": "ipython3",
   "version": "3.10.6"
  }
 },
 "nbformat": 4,
 "nbformat_minor": 5
}
