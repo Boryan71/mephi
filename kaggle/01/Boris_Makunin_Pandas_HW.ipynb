{
  "nbformat": 4,
  "nbformat_minor": 0,
  "metadata": {
    "colab": {
      "provenance": []
    },
    "kernelspec": {
      "name": "python3",
      "display_name": "Python 3"
    },
    "language_info": {
      "name": "python"
    }
  },
  "cells": [
    {
      "cell_type": "code",
      "execution_count": null,
      "metadata": {
        "id": "UcHu7Q4U-Y7g"
      },
      "outputs": [],
      "source": [
        "import pandas as pd"
      ]
    },
    {
      "cell_type": "code",
      "source": [
        "# Считываем csv-файл, отбирая только необходимые столбцы\n",
        "# Заранее задаем типы данных в столбцах\n",
        "cols = ['user_id','timestamp', 'answered_correctly']\n",
        "dtypes = {'user_id': 'int32', 'timestamp': 'float32', 'answered_correctly': 'int32'}\n",
        "df = pd.read_csv(\"./train.csv\", usecols=cols, dtype=dtypes)"
      ],
      "metadata": {
        "id": "XG96ZC6E-cbr"
      },
      "execution_count": null,
      "outputs": []
    },
    {
      "cell_type": "code",
      "source": [
        "# Рассчитываем столбец lag_time с предыдущим временем ответа\n",
        "# Заменяем NaN для первых строк на 0\n",
        "# Рассчитываем разницу во времени между каждым из ответов в новом столбце diff_time\n",
        "# Переводим значения столбца diff_time в секунды\n",
        "df['lag_time'] = df.groupby('user_id')['timestamp'].shift(1)\n",
        "df['lag_time'] = df['lag_time'].fillna(0)\n",
        "df['diff_time'] = df['timestamp']-df['lag_time']\n",
        "df['diff_time'] = df['diff_time'].apply(lambda x: x/1000)"
      ],
      "metadata": {
        "id": "JADs_r1j-gHN"
      },
      "execution_count": null,
      "outputs": []
    },
    {
      "cell_type": "code",
      "source": [
        "# Рассчитываем среднее время ответа в группировке по ученикам и выводим топ-5\n",
        "df_diff_time = df.where(df['diff_time']>0).groupby('user_id', as_index=False)[['diff_time', 'user_id']]\n",
        "df_diff_time = df_diff_time.mean('diff_time')\n",
        "df_diff_time['user_id'] = df_diff_time['user_id'].astype('int')\n",
        "with pd.option_context('display.max_rows', None, 'display.max_columns', None):\n",
        "    print('Топ-5 учеников по средней скорости ответов:')\n",
        "    print(df_diff_time.sort_values(by='diff_time', ascending=True) \\\n",
        "                .rename(columns={'user_id': 'Ученик', 'diff_time': 'Среднее время ответа (сек)'}) \\\n",
        "                .head(5)[['Ученик','Среднее время ответа (сек)']] \\\n",
        "                .to_string(index=False)\n",
        "          )"
      ],
      "metadata": {
        "id": "VP3FzWI0-mal"
      },
      "execution_count": null,
      "outputs": []
    },
    {
      "cell_type": "code",
      "source": [
        "# Рассчитываем количество правильных ответов в группировке по ученикам и выводим топ-5\n",
        "df_corr_answ = df.where(df['answered_correctly']==1).groupby('user_id', as_index=False)[['user_id', 'answered_correctly']]\n",
        "df_corr_answ = df_corr_answ.size()\n",
        "df_corr_answ['user_id'] = df_corr_answ['user_id'].astype('int')\n",
        "with pd.option_context('display.max_rows', None, 'display.max_columns', None):\n",
        "    print('Топ-5 учеников по количеству правильных ответов:')\n",
        "    print(df_corr_answ.sort_values(by='size', ascending=False)\n",
        "          .rename(columns={'user_id': 'Ученик', 'size': 'Количество правильных ответов'}) \\\n",
        "          .head(5) \\\n",
        "          .to_string(index=False)\n",
        "          )"
      ],
      "metadata": {
        "id": "YHZnHy06-pVn"
      },
      "execution_count": null,
      "outputs": []
    }
  ]
}