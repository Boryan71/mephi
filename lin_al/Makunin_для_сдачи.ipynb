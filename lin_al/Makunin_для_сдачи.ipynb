{
 "cells": [
  {
   "cell_type": "markdown",
   "metadata": {
    "id": "DQQFfNTLJ20S"
   },
   "source": [
    "# Задание 1"
   ]
  },
  {
   "cell_type": "code",
   "execution_count": 1,
   "metadata": {
    "id": "XqAzbM6WJyE2"
   },
   "outputs": [
    {
     "name": "stdout",
     "output_type": "stream",
     "text": [
      "Оптимальный порядок умножения матриц A,B,C: (AxB)xC.\n"
     ]
    }
   ],
   "source": [
    "#ваш код\n",
    "import numpy as np\n",
    "\n",
    "# Создаем функцию multiplication_order(A, B, C), \n",
    "# которая вернёт оптимальный порядок умножения матриц\n",
    "def multiplication_order(A, B, C):\n",
    "    \"\"\"\n",
    "    Функция возвращает оптимальный порядок умножения матриц.\n",
    "    \"\"\"\n",
    "    # Получаем количество строк и столбцов для каждой матрицы\n",
    "    a_str, a_col = A.shape\n",
    "    b_str, b_col = B.shape\n",
    "    c_str, c_col = C.shape\n",
    "    \n",
    "    # Вычисляем количество умножений для каждого варианта\n",
    "    AB_C = (a_str * a_col * b_col) + (a_str * b_col * c_col)\n",
    "    A_BC = (b_str * b_col * c_col) + (a_str * a_col * c_col)\n",
    "\n",
    "    # Возвращаем оптимальный порядок умножения\n",
    "    if AB_C <= A_BC:\n",
    "        return '(AxB)xC'\n",
    "    else:\n",
    "        return 'Ax(BxC)'\n",
    "\n",
    "\n",
    "A = np.array([[1, 2]])\n",
    "B = np.array([[2], [1]])\n",
    "C = np.array([[5]])\n",
    "\n",
    "result = multiplication_order(A, B, C)\n",
    "print(f'Оптимальный порядок умножения матриц A,B,C: {result}.')"
   ]
  },
  {
   "cell_type": "markdown",
   "metadata": {
    "id": "vQvUEt_KKShX"
   },
   "source": [
    "# Задание 2\n"
   ]
  },
  {
   "cell_type": "code",
   "execution_count": 2,
   "metadata": {
    "id": "TMJq9ob2KYBY"
   },
   "outputs": [
    {
     "name": "stdout",
     "output_type": "stream",
     "text": [
      "Номера признаков с наибольшей и наименьшей корреляцией с ценой: (3, 2).\n"
     ]
    }
   ],
   "source": [
    "#ваш код\n",
    "\n",
    "# Создаем функцию best_worst(X, Y), \n",
    "# которая вернёт номера признаков наиболее и наменее коррелирующих с ценой.\n",
    "def best_worst(X, Y):\n",
    "    \"\"\"\n",
    "    Функция определяет номера (начиная с 0) столбцов матрицы X,\n",
    "    с максимальной и минимальной (по абсолютному значению) корреляцией\n",
    "    с вектором Y.\n",
    "    \"\"\"\n",
    "    # Присоединяем вектор Y к матрице X\n",
    "    full_matrix = np.column_stack((X, Y))\n",
    "\n",
    "    # Высчитываем матрицу корреляций\n",
    "    matrix_corr = np.corrcoef(full_matrix.T)\n",
    "\n",
    "    # Вычисляем абсолютное значение коэффициентов корреляции факторов с целевой переменной\n",
    "    abs_corr = np.abs(matrix_corr[:-1,-1])\n",
    "\n",
    "    # Вычисляем номера столбцов признаков с максимальной и минимальной корреляцией по абсолютному значению\n",
    "    max_corr_idx  = int(np.argmax(abs_corr))\n",
    "    min_corr_idx = int(np.argmin(abs_corr))\n",
    "\n",
    "    return (max_corr_idx, min_corr_idx)\n",
    "\n",
    "\n",
    "# Создаем матрицу наблюдений (факторов) и вектор правильных ответов (целевую переменную)\n",
    "X = np.array([\n",
    "    [3, 51, 3, 0, 1, 0],\n",
    "    [1, 30, 1, 0, 1, 0],\n",
    "    [2, 45, 2, 0, 1, 0],\n",
    "    [3, 55, 1, 0, 1, 0],\n",
    "    [1, 45, 3, 1, 0, 0],\n",
    "    [3, 100, 3, 1, 0, 0],\n",
    "    [2, 71, 2, 1, 0, 0],\n",
    "    [1, 31, 2, 0, 0, 1],\n",
    "    [3, 53, 5, 0, 0, 1],\n",
    "    [1, 33, 3, 0, 0, 1],\n",
    "    [2, 43, 5, 0, 0, 1]\n",
    "])\n",
    "Y = np.array([2200, 1600, 1900, 2000, 4500, 7000, 5000, 1700, 2100, 1500, 2000])\n",
    "\n",
    "result = best_worst(X, Y)\n",
    "print(f'Номера признаков с наибольшей и наименьшей корреляцией с ценой: {result}.')"
   ]
  },
  {
   "cell_type": "markdown",
   "metadata": {
    "id": "hindpJMCKhB8"
   },
   "source": [
    "# Задание 3\n"
   ]
  },
  {
   "cell_type": "code",
   "execution_count": 3,
   "metadata": {
    "id": "-YLajcsEKkuQ"
   },
   "outputs": [
    {
     "name": "stdout",
     "output_type": "stream",
     "text": [
      "Ранг матрицы корреляций для матрицы X: 5\n"
     ]
    }
   ],
   "source": [
    "#ваш код\n",
    "\n",
    "# Создаем функцию corr_rank(X), возвращающую ранг корреляционной матрицы.\n",
    "def corr_rank(X):\n",
    "    \"\"\"\n",
    "    Функция возвращает ранг корреляционной матрицы для матрицы X.\n",
    "    \"\"\"\n",
    "    # Высчитываем матрицу корреляций\n",
    "    matrix_corr = np.corrcoef(X.T)\n",
    "\n",
    "    # Высчитываем ранг матрицы корреляций\n",
    "    mcorr_rank = int(np.linalg.matrix_rank(matrix_corr))\n",
    "\n",
    "    return mcorr_rank\n",
    "    \n",
    "result = corr_rank(X)\n",
    "print(f'Ранг матрицы корреляций для матрицы X: {result}')"
   ]
  },
  {
   "cell_type": "markdown",
   "metadata": {
    "id": "tKweU9DCKk-f"
   },
   "source": [
    "# Задание 4"
   ]
  },
  {
   "cell_type": "code",
   "execution_count": 4,
   "metadata": {
    "id": "pi2fjbkjKmzi"
   },
   "outputs": [
    {
     "name": "stdout",
     "output_type": "stream",
     "text": [
      "Обратная матрица для A: \n",
      "[[-0.33333333  0.66666667]\n",
      " [ 0.66666667 -0.33333333]]\n"
     ]
    }
   ],
   "source": [
    "#ваш код\n",
    "\n",
    "# Создаем функцию inverse_matrix(A), которая вернёт Обратную матрицу для А,\n",
    "# либо None, если матрица А необратима\n",
    "def inverse_matrix(A):\n",
    "    \"\"\"\n",
    "    Функция возвращает обратную матрицу для А, либо None,\n",
    "    если матрица A необратима.\n",
    "    \"\"\"\n",
    "    # Проверяем обратимость матрицы\n",
    "    # Вычисляем обратную матрицу, если А - обратима\n",
    "    matrix_det = np.linalg.det(A)\n",
    "    if abs(matrix_det) < 0.001:\n",
    "        res = None\n",
    "    else:\n",
    "        res = np.linalg.inv(A)\n",
    "\n",
    "    return res\n",
    "\n",
    "A = np.array([[1, 2], [2, 1]])\n",
    "result = inverse_matrix(A)\n",
    "\n",
    "print(f'Обратная матрица для A: \\n{result}')"
   ]
  },
  {
   "cell_type": "markdown",
   "metadata": {
    "id": "pnIqMUVsKnTq"
   },
   "source": [
    "# Задание 5"
   ]
  },
  {
   "cell_type": "code",
   "execution_count": 5,
   "metadata": {
    "id": "g34wFIBuKpmL"
   },
   "outputs": [
    {
     "name": "stdout",
     "output_type": "stream",
     "text": [
      "Коэффициенты регрессии: [-574.12295766   65.33255763  141.80223878 1145.11531515 -408.72264317\n",
      " -736.39267198]\n"
     ]
    }
   ],
   "source": [
    "#ваш код\n",
    "from sklearn.linear_model import LinearRegression\n",
    "\n",
    "# Создаем функцию fit_model(X, y), \n",
    "# которая вернёт numpy-массив с оптимальными коэффициентами a, найденными методом OLS.\n",
    "def fit_model(X, y):\n",
    "    \"\"\"\n",
    "    Функция возвращает numpy-массив с оптимальными коэффициентами a, найденными методом OLS\n",
    "    \"\"\"\n",
    "    lv_X = X\n",
    "    lv_y = y\n",
    "\n",
    "    # Создаём модель линейной регрессии\n",
    "    model = LinearRegression()\n",
    "    \n",
    "    # Вычисляем коэффициенты регрессии\n",
    "    model.fit(lv_X, lv_y)\n",
    "    w = model.coef_\n",
    "\n",
    "    return w\n",
    "\n",
    "result = fit_model(X, Y)\n",
    "print(f'Коэффициенты регрессии: {result}')"
   ]
  }
 ],
 "metadata": {
  "colab": {
   "provenance": []
  },
  "kernelspec": {
   "display_name": "Python 3 (ipykernel)",
   "language": "python",
   "name": "python3"
  },
  "language_info": {
   "codemirror_mode": {
    "name": "ipython",
    "version": 3
   },
   "file_extension": ".py",
   "mimetype": "text/x-python",
   "name": "python",
   "nbconvert_exporter": "python",
   "pygments_lexer": "ipython3",
   "version": "3.10.6"
  }
 },
 "nbformat": 4,
 "nbformat_minor": 4
}
