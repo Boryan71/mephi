{
 "cells": [
  {
   "cell_type": "markdown",
   "id": "b054bd88",
   "metadata": {
    "id": "b054bd88"
   },
   "source": [
    "# <center> Линейная алгебра в контексте линейных методов. Практика.\n",
    "\n",
    "## <center> Прогнозирование выработки газа на скважинах."
   ]
  },
  {
   "cell_type": "markdown",
   "id": "325bc80b",
   "metadata": {
    "id": "325bc80b"
   },
   "source": [
    "## Постановка задачи"
   ]
  },
  {
   "cell_type": "markdown",
   "id": "8247bd54",
   "metadata": {
    "id": "8247bd54"
   },
   "source": [
    "У Василия, основателя компании «Газ-Таз-Ваз-Нефть», дела идут в гору: у него уже функционирует 200 скважин для добычи газа. В этом году он открывает 30 новых скважин. Однако в целях оптимизации расходов и повышения дохода Василию необходимо оценить, сколько денег будет приносить ему каждая из скважин, а также понять, какие факторы (параметры скважин) потенциально сильнее всего повлияют на объём добычи газа. Для этого Василий решил нанять вас как специалиста в области Data Science.\n",
    "\n",
    "Василий представляет вам набор данных о добыче газа на своих скважинах. Файл с данными вы можете скачать на платформе.\n",
    "\n",
    "**Признаки в данных:**\n",
    "\n",
    "* Well — идентификатор скважины;\n",
    "* Por — пористость скважины (%);\n",
    "* Perm — проницаемость скважины;\n",
    "* AI — акустический импеданс ($кг/м^2 * 10^6$);\n",
    "* Brittle — коэффициент хрупкости скважины (%);\n",
    "* TOC — общий органический углерод (%);\n",
    "* VR — коэффициент отражения витринита (%);\n",
    "* Prod — добыча газа в сутки (млн. кубических футов).\n",
    "\n",
    "**Ваша задача** — построить регрессионную модель, которая прогнозирует выработку газа на скважине (целевой признак — Prod) на основе остальных характеристик скважины, и проинтерпретировать результаты вашей модели.\n",
    "\n",
    "Разделим задачу на две части:\n",
    "* В первой мы построим простейшую модель линейной регрессии, проанализируем результаты её работы и выберем наиболее значимые факторы для прогнозирования.\n",
    "* Во второй мы займёмся построением модели полиномиальной регрессии с регуляризацией и посмотрим на итоговые результаты моделирования.\n"
   ]
  },
  {
   "cell_type": "markdown",
   "id": "d67d069e",
   "metadata": {
    "id": "d67d069e"
   },
   "source": [
    "Импортируем необходимые библиотеки:"
   ]
  },
  {
   "cell_type": "code",
   "execution_count": 1,
   "id": "83a555bc-8dff-4b7e-bba1-cd4f4a9e69b2",
   "metadata": {
    "id": "83a555bc-8dff-4b7e-bba1-cd4f4a9e69b2"
   },
   "outputs": [],
   "source": [
    "# Импорт библиотек\n",
    "import numpy as np # для работы с массивами\n",
    "import pandas as pd # для работы с DataFrame \n",
    "import seaborn as sns # библиотека для визуализации статистических данных\n",
    "import matplotlib.pyplot as plt # для построения графиков\n",
    "\n",
    "%matplotlib inline"
   ]
  },
  {
   "cell_type": "markdown",
   "id": "e689ddaf",
   "metadata": {
    "id": "e689ddaf"
   },
   "source": [
    "Прочитаем исходные данные:"
   ]
  },
  {
   "cell_type": "code",
   "execution_count": 2,
   "id": "b7b5cd9b-703f-4dbc-a6e3-61d583eafcac",
   "metadata": {
    "colab": {
     "base_uri": "https://localhost:8080/",
     "height": 206
    },
    "id": "b7b5cd9b-703f-4dbc-a6e3-61d583eafcac",
    "outputId": "d4e99a48-2a0d-4edd-f86c-617c44bf36d2"
   },
   "outputs": [
    {
     "data": {
      "text/html": [
       "<div>\n",
       "<style scoped>\n",
       "    .dataframe tbody tr th:only-of-type {\n",
       "        vertical-align: middle;\n",
       "    }\n",
       "\n",
       "    .dataframe tbody tr th {\n",
       "        vertical-align: top;\n",
       "    }\n",
       "\n",
       "    .dataframe thead th {\n",
       "        text-align: right;\n",
       "    }\n",
       "</style>\n",
       "<table border=\"1\" class=\"dataframe\">\n",
       "  <thead>\n",
       "    <tr style=\"text-align: right;\">\n",
       "      <th></th>\n",
       "      <th>Well</th>\n",
       "      <th>Por</th>\n",
       "      <th>Perm</th>\n",
       "      <th>AI</th>\n",
       "      <th>Brittle</th>\n",
       "      <th>TOC</th>\n",
       "      <th>VR</th>\n",
       "      <th>Prod</th>\n",
       "    </tr>\n",
       "  </thead>\n",
       "  <tbody>\n",
       "    <tr>\n",
       "      <th>0</th>\n",
       "      <td>1</td>\n",
       "      <td>12.08</td>\n",
       "      <td>2.92</td>\n",
       "      <td>2.80</td>\n",
       "      <td>81.40</td>\n",
       "      <td>1.16</td>\n",
       "      <td>2.31</td>\n",
       "      <td>4165.196191</td>\n",
       "    </tr>\n",
       "    <tr>\n",
       "      <th>1</th>\n",
       "      <td>2</td>\n",
       "      <td>12.38</td>\n",
       "      <td>3.53</td>\n",
       "      <td>3.22</td>\n",
       "      <td>46.17</td>\n",
       "      <td>0.89</td>\n",
       "      <td>1.88</td>\n",
       "      <td>3561.146205</td>\n",
       "    </tr>\n",
       "    <tr>\n",
       "      <th>2</th>\n",
       "      <td>3</td>\n",
       "      <td>14.02</td>\n",
       "      <td>2.59</td>\n",
       "      <td>4.01</td>\n",
       "      <td>72.80</td>\n",
       "      <td>0.89</td>\n",
       "      <td>2.72</td>\n",
       "      <td>4284.348574</td>\n",
       "    </tr>\n",
       "    <tr>\n",
       "      <th>3</th>\n",
       "      <td>4</td>\n",
       "      <td>17.67</td>\n",
       "      <td>6.75</td>\n",
       "      <td>2.63</td>\n",
       "      <td>39.81</td>\n",
       "      <td>1.08</td>\n",
       "      <td>1.88</td>\n",
       "      <td>5098.680869</td>\n",
       "    </tr>\n",
       "    <tr>\n",
       "      <th>4</th>\n",
       "      <td>5</td>\n",
       "      <td>17.52</td>\n",
       "      <td>4.57</td>\n",
       "      <td>3.18</td>\n",
       "      <td>10.94</td>\n",
       "      <td>1.51</td>\n",
       "      <td>1.90</td>\n",
       "      <td>3406.132832</td>\n",
       "    </tr>\n",
       "  </tbody>\n",
       "</table>\n",
       "</div>"
      ],
      "text/plain": [
       "   Well    Por  Perm    AI  Brittle   TOC    VR         Prod\n",
       "0     1  12.08  2.92  2.80    81.40  1.16  2.31  4165.196191\n",
       "1     2  12.38  3.53  3.22    46.17  0.89  1.88  3561.146205\n",
       "2     3  14.02  2.59  4.01    72.80  0.89  2.72  4284.348574\n",
       "3     4  17.67  6.75  2.63    39.81  1.08  1.88  5098.680869\n",
       "4     5  17.52  4.57  3.18    10.94  1.51  1.90  3406.132832"
      ]
     },
     "execution_count": 2,
     "metadata": {},
     "output_type": "execute_result"
    }
   ],
   "source": [
    "df = pd.read_csv('./unconv.csv')\n",
    "df.head()"
   ]
  },
  {
   "cell_type": "markdown",
   "id": "58639b40",
   "metadata": {
    "id": "58639b40"
   },
   "source": [
    "## Практика: линейная регрессия по методу наименьших квадратов"
   ]
  },
  {
   "cell_type": "markdown",
   "id": "a90535b8",
   "metadata": {
    "id": "a90535b8"
   },
   "source": [
    "Для начала построим простейшую модель линейной регрессии, проанализируем результаты её работы и выберем наиболее значимые факторы для прогнозирования.\n",
    "\n",
    "В первой части вам предстоит выполнить задания 5.0–5.6. Максимальное количество баллов, которое можно получить, — 9."
   ]
  },
  {
   "cell_type": "markdown",
   "id": "4061b706",
   "metadata": {
    "id": "4061b706"
   },
   "source": [
    "### Задание 5.0. (не оценивается)\n",
    "\n",
    "Проведите небольшой разведывательный анализ, чтобы поближе познакомиться с исходными данными. Постройте несколько визуализаций, которые помогут вам понять, как устроены исходные признаки, а также смогут продемонстрировать взаимосвязь факторов. \n",
    "\n",
    "Сделайте промежуточные выводы из проведённого разведывательного анализа."
   ]
  },
  {
   "cell_type": "code",
   "execution_count": 3,
   "id": "daf1ccc7",
   "metadata": {
    "id": "daf1ccc7"
   },
   "outputs": [
    {
     "name": "stdout",
     "output_type": "stream",
     "text": [
      "Типы данных:\n",
      "Well         int64\n",
      "Por        float64\n",
      "Perm       float64\n",
      "AI         float64\n",
      "Brittle    float64\n",
      "TOC        float64\n",
      "VR         float64\n",
      "Prod       float64\n",
      "dtype: object\n",
      "\n",
      "Общая информация:\n",
      "<class 'pandas.core.frame.DataFrame'>\n",
      "RangeIndex: 200 entries, 0 to 199\n",
      "Data columns (total 8 columns):\n",
      " #   Column   Non-Null Count  Dtype  \n",
      "---  ------   --------------  -----  \n",
      " 0   Well     200 non-null    int64  \n",
      " 1   Por      200 non-null    float64\n",
      " 2   Perm     200 non-null    float64\n",
      " 3   AI       200 non-null    float64\n",
      " 4   Brittle  200 non-null    float64\n",
      " 5   TOC      200 non-null    float64\n",
      " 6   VR       200 non-null    float64\n",
      " 7   Prod     200 non-null    float64\n",
      "dtypes: float64(7), int64(1)\n",
      "memory usage: 12.6 KB\n",
      "None\n",
      "\n",
      "Гистограммы распределения количественных признаков:\n"
     ]
    },
    {
     "data": {
      "image/png": "[encoded data removed]",
      "text/plain": [
       "<Figure size 640x480 with 1 Axes>"
      ]
     },
     "metadata": {},
     "output_type": "display_data"
    },
    {
     "data": {
      "image/png": "[encoded data removed]",
      "text/plain": [
       "<Figure size 640x480 with 1 Axes>"
      ]
     },
     "metadata": {},
     "output_type": "display_data"
    },
    {
     "data": {
      "image/png": "[encoded data removed]",
      "text/plain": [
       "<Figure size 640x480 with 1 Axes>"
      ]
     },
     "metadata": {},
     "output_type": "display_data"
    },
    {
     "data": {
      "image/png": "[encoded data removed]",
      "text/plain": [
       "<Figure size 640x480 with 1 Axes>"
      ]
     },
     "metadata": {},
     "output_type": "display_data"
    },
    {
     "data": {
      "image/png": "[encoded data removed]",
      "text/plain": [
       "<Figure size 640x480 with 1 Axes>"
      ]
     },
     "metadata": {},
     "output_type": "display_data"
    },
    {
     "data": {
      "image/png": "[encoded data removed]",
      "text/plain": [
       "<Figure size 640x480 with 1 Axes>"
      ]
     },
     "metadata": {},
     "output_type": "display_data"
    },
    {
     "data": {
      "image/png": "[encoded data removed]",
      "text/plain": [
       "<Figure size 640x480 with 1 Axes>"
      ]
     },
     "metadata": {},
     "output_type": "display_data"
    }
   ],
   "source": [
    "# Ваш код здесь\n",
    "# Выводим общую информацию об исходных данных\n",
    "print('Типы данных:')\n",
    "print(df.dtypes)\n",
    "print()\n",
    "print('Общая информация:')\n",
    "print(df.info())\n",
    "print()\n",
    "\n",
    "# Выводим гистограммы распределения количественных признаков\n",
    "print('Гистограммы распределения количественных признаков:')\n",
    "for col in df.columns[1:]:\n",
    "    sns.histplot(data=df[col])\n",
    "    plt.title(f'Распределение признака {col}')\n",
    "    plt.show()"
   ]
  },
  {
   "cell_type": "markdown",
   "id": "d11cb44f",
   "metadata": {
    "id": "d11cb44f"
   },
   "source": [
    "### Задание 5.1. (2 балла)\n",
    "\n",
    "Постройте корреляционную матрицу факторов, включив в неё целевой признак. \n",
    "\n",
    "Для наглядности визуализируйте полученную матрицу с помощью тепловой карты. \n",
    "\n",
    "**Примечание.** *Для визуализации вы можете использовать любую из знакомых вам библиотек.*\n",
    "\n",
    "На основе построенной корреляционной матрицы ответьте на следующий вопрос:\n",
    "\n",
    "* Какие факторы сильнее всего коррелируют с целевой переменной?\n",
    "\n",
    "Вычислите ранг и определитель полученной матрицы корреляций и приведите развёрнутые ответы на следующие вопросы:\n",
    "* Является ли корреляционная матрица плохо обусловенной (близок ли её опредитель к нулю)?\n",
    "* Что вы можете сказать о наличии коллинераности/мультиколлинеарности в данных? \n",
    "* Применима ли в данном случае модель классической линейной регрессии по методу наименьших квадратов и почему? "
   ]
  },
  {
   "cell_type": "markdown",
   "id": "57OjUl5e2oiL",
   "metadata": {
    "id": "57OjUl5e2oiL"
   },
   "source": [
    "**Критерии оценивания:**\n",
    "- Задание выполнено верно, учтены все условия (**2 балла**): \n",
    "    * приведён код для расчёта корреляционной матрицы;\n",
    "    * приведён код для визуализации корреляционной матрицы в виде тепловой карты;\n",
    "    * рассчитаны ранг и определитель корреляционной матрицы;\n",
    "    * предоставлены обоснованные ответы на все поставленные вопросы. \n",
    "\n",
    "- Задание выполнено верно, но не учтено одно условие (**1 балл**).\n",
    "- Задание выполнено неверно, не учтено несколько условий (**0 баллов**)."
   ]
  },
  {
   "cell_type": "code",
   "execution_count": 4,
   "id": "af00a5a0",
   "metadata": {
    "id": "af00a5a0"
   },
   "outputs": [
    {
     "data": {
      "image/png": "[encoded data removed]",
      "text/plain": [
       "<Figure size 640x480 with 2 Axes>"
      ]
     },
     "metadata": {},
     "output_type": "display_data"
    },
    {
     "name": "stdout",
     "output_type": "stream",
     "text": [
      "\n",
      "Ранг корреляционной матрицы: 8\n",
      "Определитель корреляционной матрицы 0.0007299388072652095\n",
      "\n",
      "Сильнее всего с целевой переменной Prod коррелируют следующие факторы:\n",
      "Por     0.861910\n",
      "Perm    0.727426\n",
      "TOC     0.654445\n"
     ]
    }
   ],
   "source": [
    "# Ваш код здесь\n",
    "# Рассчитываем корреляционную матрицу\n",
    "df_corr = df.corr()\n",
    "\n",
    "# Визуализируем полученную матрицу с помощью тепловой карты\n",
    "sns.heatmap(df_corr, annot=True, cmap='RdYlGn')\n",
    "plt.title('Тепловая карта корреляционной матрицы')\n",
    "plt.show()\n",
    "print()\n",
    "\n",
    "# Рассчитываем ранг и определитель корреляционной матрицы\n",
    "corr = np.array(df_corr.values)\n",
    "corr_rank = np.linalg.matrix_rank(corr)\n",
    "corr_det = np.linalg.det(corr)\n",
    "print(f'Ранг корреляционной матрицы: {corr_rank}')\n",
    "print(f'Определитель корреляционной матрицы {corr_det}')\n",
    "print()\n",
    "\n",
    "# Определяем факторы, которые сильнее всего коррелируют с целевой переменной Prod\n",
    "top_corr_fact = df_corr['Prod'].drop('Prod').sort_values(ascending=False).head(3)\n",
    "print('Сильнее всего с целевой переменной Prod коррелируют следующие факторы:')\n",
    "print(top_corr_fact.to_string())"
   ]
  },
  {
   "cell_type": "markdown",
   "id": "9a56013d",
   "metadata": {
    "id": "9a56013d"
   },
   "source": [
    "> *Ваши выводы здесь*  \n",
    "> Определитель корреляционной матрицы очень мал (~0.0007), матрица практически вырожденная, что позволяет говорить о том, что данная корреляционная матрица является плохо обсуловленной.  \n",
    "> Данная корреляционная матрица имеет факторы, которые сильно коррелируют друг с другом, а также очень близкий к нулю определитель, что свидетельствует о мультиколлинеарности в данных.  \n",
    "> Модель классической линейной регресии по МНК может быть применена в данном случае, однако интерпретация параметров регрессии усложняется, коэффициенты линейной регрессии становятся неустойчивыми."
   ]
  },
  {
   "cell_type": "markdown",
   "id": "43fd91c4",
   "metadata": {
    "id": "43fd91c4"
   },
   "source": [
    "### Задание 5.2. (2 балла)\n",
    "\n",
    "Создайте матрицу наблюдений `X` и вектор правильных ответов `y`. В качестве факторов для матрицы наблюдений возьмите все имеющиеся в данных признаки. \n",
    "\n",
    "Постройте модель линейной регрессии по методу наименьших квадратов. Для этого воспользуйтесь матричной формулой МНК и инструментарием библиотеки numpy. \n",
    "\n",
    "Выведите на экран полученные оценки коэффициентов модели, округлённые до целого.\n",
    "\n",
    "Приведите подробные выводы по полученным результатам, ответив на следующие вопросы:\n",
    "* Есть ли в ваших данных признаки, которые, согласно модели, можно назвать неинформативными, то есть они не оказывают влияния на целевую переменную или оказывают шумовое влияние?\n",
    "* Приведите интерпретацию нескольких (двух или трёх) коэффициентов полученной модели линейной регрессии.\n"
   ]
  },
  {
   "cell_type": "markdown",
   "id": "QtNtTUzI4Cpq",
   "metadata": {
    "id": "QtNtTUzI4Cpq"
   },
   "source": [
    "**Критерии оценивания:**\n",
    "- Задание выполнено верно, учтены все условия (**2 балла**): \n",
    "    * приведён код для нахождения параметров модели линейной регрессии с помощью матричной формулы МНК;\n",
    "    * на основе полученных параметров даны верные ответы на поставленные вопросы;\n",
    "    * приведена корректная интерпретация нескольких коэффициентов полученной модели линейной регрессии.\n",
    "\n",
    "- Задание выполнено верно, но не учтено одно из условий (**1 балл**).\n",
    "- Задание выполнено неверно, не учтено несколько условий (**0 баллов**)."
   ]
  },
  {
   "cell_type": "code",
   "execution_count": 5,
   "id": "5724288c",
   "metadata": {
    "id": "5724288c"
   },
   "outputs": [
    {
     "name": "stdout",
     "output_type": "stream",
     "text": [
      "МНК-оценка коэффициентов модели:\n",
      "Por: 230\n",
      "Perm: 116\n",
      "AI: -364\n",
      "Brittle: 25\n",
      "TOC: -77\n",
      "VR: 783\n"
     ]
    }
   ],
   "source": [
    "# Ваш код здесь\n",
    "# Создаем матрицу наблюдений (факторов) X и вектор правильных ответов (целевую переменную) y\n",
    "X = np.column_stack((np.ones(200),np.array(df.drop(['Well','Prod'], axis=1).values)))  \n",
    "y = np.array(df['Prod'])\n",
    "\n",
    "# Вычисляем МНК-оценку для коэффициентов модели\n",
    "G1_X = np.linalg.inv(np.dot(X.T, X))\n",
    "b = np.dot(X.T, y)\n",
    "w = np.dot(G1_X, b)\n",
    "\n",
    "# Выводим полученные оценки коэффициентов модели, округленные до целого\n",
    "W = np.column_stack((df.drop(['Well','Prod'], axis=1).columns.to_list(), [int(i) for i in np.round(w[1:])]))\n",
    "print('МНК-оценка коэффициентов модели:')\n",
    "for pair in W:\n",
    "    print(f'{pair[0]}: {pair[1]}')"
   ]
  },
  {
   "cell_type": "markdown",
   "id": "bab9ee21",
   "metadata": {
    "id": "bab9ee21"
   },
   "source": [
    "> *Ваши выводы здесь*  \n",
    "> Признак Brittle можно назвать неинформативным, так как он оказывает минимальное влияние на целевую переменную.  \n",
    "> **Увеличение** признака Por на 1 единицу приведет к **увеличению** целевой переменной Prod на 783 пункта,  \n",
    "> **Уменьшение** признака Perm на 1 единицу приведет к **уменьшению** целевой переменной Prod на 116 пунктов,  \n",
    "> **Увеличение** признака AI на 1 единицу приведет к **уменьшению** целевой переменной Prod на 364 пункта."
   ]
  },
  {
   "cell_type": "markdown",
   "id": "4a05a4ac",
   "metadata": {
    "id": "4a05a4ac"
   },
   "source": [
    "### Задание 5.3. (1 балл)\n",
    "\n",
    "Теперь потренируемся строить предсказание для наблюдений целевой переменной. \n",
    "\n",
    "**а)** Постройте прогноз выработки газа для скважины со следующими параметрами:\n",
    "\n",
    "```python\n",
    "{\n",
    "    'Well': 106.0,\n",
    "    'Por': 15.32,\n",
    "    'Perm': 3.71,\n",
    "    'AI': 3.29,\n",
    "    'Brittle': 55.99,\n",
    "    'TOC': 1.35,\n",
    "    'VR': 2.42\n",
    " }\n",
    "```\n",
    "\n",
    "Рассчитайте абсолютную ошибку построенного вами прогноза для предложенной скважины (в миллионах кубических футов в день), если известно, что на этой скважине производится `4748.315024` миллионов кубических футов газа в день. \n",
    "\n",
    "**б)** Постройте прогноз выработки газа для всех скважин из обучающего набора данных. Выберите метрику, по которой вы будете оценивать качество регрессионных моделей и сравнивать их между собой (можно использовать несколько метрик, но не более двух).\n",
    "\n",
    "Рассчитайте значение выбранной метрики для вашей модели. Приведите интерпретацию полученного результата. "
   ]
  },
  {
   "cell_type": "markdown",
   "id": "qUDcep5Q5GWU",
   "metadata": {
    "id": "qUDcep5Q5GWU"
   },
   "source": [
    "**Критерии оценивания:**\n",
    "- Задание выполнено верно, учтены все условия (**1 балл**): \n",
    "    * приведён код для построения прогноза выработки газа на указанной скважине и рассчитана абсолютная ошибка прогноза для этой скважины;\n",
    "    * выбрана корректная для поставленной задачи метрика (или метрики) оценки качества модели и приведён код для расчёта этой метрики на всём обучающем наборе данных;\n",
    "    * приведена корректная интерпретация полученного результата.\n",
    "\n",
    "- Задание выполнено верно, но не учтено одно из условий, или задание выполнено неверно (**0 баллов**)."
   ]
  },
  {
   "cell_type": "code",
   "execution_count": 6,
   "id": "e4291db0",
   "metadata": {
    "id": "e4291db0"
   },
   "outputs": [
    {
     "name": "stdout",
     "output_type": "stream",
     "text": [
      "Скважина с заданными параметрами:\n",
      "Прогноз выработки газа скважиной с заданными параметрами равен 4722.72153830062 млн куб. футов/день\n",
      "Абсолютная ошибка прогноза равна 25.593485699380835 млн куб. футов/день\n",
      "\n",
      "Все скважины из обучающего набора данных:\n",
      "Средняя абсолютная процентная ошибка (MAPE) равна 3.63%\n",
      "Средняя абсолютная ошибка (MAE) равна 153.60366973556467 млн куб. футов/день\n"
     ]
    }
   ],
   "source": [
    "# Ваш код здесь\n",
    "from sklearn.metrics import mean_absolute_percentage_error, mean_absolute_error\n",
    "\n",
    "# Данные для новой скважины\n",
    "new_dict = {\n",
    "    'Well': 106.0,\n",
    "    'Por': 15.32,\n",
    "    'Perm': 3.71,\n",
    "    'AI': 3.29,\n",
    "    'Brittle': 55.99,\n",
    "    'TOC': 1.35,\n",
    "    'VR': 2.42\n",
    " }\n",
    "\n",
    "# Приводим данные в необходимый вид\n",
    "new_list = []\n",
    "for i in new_dict.values():\n",
    "    new_list.append(i)\n",
    "new = np.array(new_list)\n",
    "new[0] = 1\n",
    "\n",
    "# Вычисляем прогноз целевой переменной для новой скважины,\n",
    "# а также абсолютную ошибку прогноза\n",
    "new_prod = np.dot(new, w)\n",
    "correct_prod = 4748.315024\n",
    "abs_error = abs(new_prod - correct_prod)\n",
    "print('Скважина с заданными параметрами:')\n",
    "print(f'Прогноз выработки газа скважиной с заданными параметрами равен {new_prod} млн куб. футов/день')\n",
    "print(f'Абсолютная ошибка прогноза равна {abs_error} млн куб. футов/день')\n",
    "print()\n",
    "\n",
    "# Вычисляем прогноз целевой переменной для всех скважин из обучающего набора данных\n",
    "new_y = np.dot(X, w)\n",
    "\n",
    "# Рассчитаем метрики MAPE и MAE для оценки качества модели\n",
    "mape = mean_absolute_percentage_error(y, new_y)*100\n",
    "mae = mean_absolute_error(y, new_y)\n",
    "print('Все скважины из обучающего набора данных:')\n",
    "print(f'Средняя абсолютная процентная ошибка (MAPE) равна {mape:.2f}%')\n",
    "print(f'Средняя абсолютная ошибка (MAE) равна {mae} млн куб. футов/день')"
   ]
  },
  {
   "cell_type": "markdown",
   "id": "c9bee4bc",
   "metadata": {
    "id": "c9bee4bc"
   },
   "source": [
    "> *Ваши выводы здесь*  \n",
    "> Интерпретация полученных результатов:  \n",
    "> В среднем полученная регрессионная модель ошибается в расчете целевой переменной на 3.63%  \n",
    "> В среднем полученная регрессионная модель ошибается в расчете выработки газа на 153.60366973556467 млн куб. футов/день  "
   ]
  },
  {
   "cell_type": "markdown",
   "id": "0c25c3aa",
   "metadata": {
    "id": "0c25c3aa"
   },
   "source": [
    "### Задание 5.4. (1 балл)\n",
    "\n",
    "Настало время анализа построенной модели. Посмотрите на коэффициенты и сравните их знаки со значениями выборочных корреляций между целевым признаком и факторами, которые вы нашли ранее.\n",
    "\n",
    "Дайте развёрнутые ответы на следующие вопросы:\n",
    "\n",
    "* Есть ли в вашей модели фактор, при котором коэффициент в модели линейной регрессии противоречит соответствующему коэффициенту корреляции? Например, корреляция говорит, что зависимость между фактором и целевой переменной прямая, а модель говорит обратное. Если таких факторов несколько, укажите их все.\n",
    "* Как вы считаете, с чем связано полученное противоречие результатов?"
   ]
  },
  {
   "cell_type": "markdown",
   "id": "ngJ3UdYb6Ll6",
   "metadata": {
    "id": "ngJ3UdYb6Ll6"
   },
   "source": [
    "**Критерии оценивания:**\n",
    "\n",
    "- Задание выполнено верно, даны корректные развёрнутые ответы на все поставленные в задании вопросы (**1 балл**). \n",
    "\n",
    "- Задание выполнено неверно, даны некорректные ответы на один или несколько поставленных в задании вопросов (**0 баллов**)."
   ]
  },
  {
   "cell_type": "code",
   "execution_count": 7,
   "id": "v-zIxRPY9wK7",
   "metadata": {
    "id": "v-zIxRPY9wK7"
   },
   "outputs": [
    {
     "name": "stdout",
     "output_type": "stream",
     "text": [
      "Метрика:                        Por        Perm          AI   Brittle        TOC          VR\n",
      "Коэффиициент корреляции:    0.86191    0.727426   -0.390835  0.237155   0.654445    0.323182\n",
      "Коэффициент регрессии:    230.29581  116.228033 -363.736086  24.99667 -77.436742  783.187413\n"
     ]
    }
   ],
   "source": [
    "# Ваш код здесь\n",
    "# Подготавливаем данные для сравенения\n",
    "df_correlation = df.drop('Well', axis=1).corr()['Prod'].drop('Prod')\n",
    "metrics_name = list(df_correlation.index)\n",
    "metrics_correlation = list(df_correlation.values)\n",
    "metrics_coef = list(w[1:])\n",
    "\n",
    "# Создаем сравнительную таблицу\n",
    "compare_table = pd.DataFrame({\n",
    "    'Метрика:': metrics_name,\n",
    "    'Коэффиициент корреляции:': metrics_correlation,\n",
    "    'Коэффициент регрессии:': metrics_coef\n",
    "    })\n",
    "\n",
    "print(compare_table.T.to_string(index=True, header=False))"
   ]
  },
  {
   "cell_type": "markdown",
   "id": "qeowwIp99yBf",
   "metadata": {
    "id": "qeowwIp99yBf"
   },
   "source": [
    "> *Ваши выводы здесь*  \n",
    "> В модели присутствует фактор TOC, коэффициент корреляции которого ≈ 0.65, что указывает на прямую зависимость, однако коэффициент регрессии для данного фактора ≈ -77.44, что в свою очередь указывает на обратную зависимость.  \n",
    "> Полученное противоречие результатов может указывать на наличие нелинейной зависимости между фактором TOC и целевой переменной Prod."
   ]
  },
  {
   "cell_type": "markdown",
   "id": "9cea9195",
   "metadata": {
    "id": "9cea9195"
   },
   "source": [
    "### Задание 5.5. (2 балла)\n",
    "\n",
    "* Исключите из данных сильно коррелированные между собой факторы. Под сильной корреляцией в данной задаче будем понимать значения выше `0.7`.\n",
    "\n",
    "Выбирая, какой из коррелированных факторов оставить, руководствуйтесь коэффициентом корреляции с целевой переменной: оставляйте тот фактор, который больше всего коррелирует с целевой переменной (объёмом добычи газа).\n",
    "\n",
    "* Также исключите из данных факторы, для которых корреляция с целевой переменной меньше `0.05`.\n",
    "\n",
    "Постройте модель линейной регрессии на обновлённых после удаления факторов данных по методу наименьших квадратов. Для этого используйте матричную формулу и библиотеку numpy. Выведите значение полученных коэффициентов, округлённых до целого.\n",
    "\n",
    "Сделайте прогноз для всего обучающего набора данных и рассчитайте выбранную вами ранее метрику (или метрики). \n",
    "\n",
    "Дайте подробные ответы на следующие вопросы:\n",
    "\n",
    "* Приведите интерпретацию нескольких полученных коэффициентов (двух или трёх). Сравните их значения с полученными ранее.\n",
    "* Приведите интерпретацию полученных значений метрик. Сравните их значения с полученными ранее. \n",
    "* Удалось ли вам побороть противоречие коэффициентов линейной регрессии и коэффициентов корреляции?"
   ]
  },
  {
   "cell_type": "markdown",
   "id": "vlUYVjJP6oXN",
   "metadata": {
    "id": "vlUYVjJP6oXN"
   },
   "source": [
    "**Критерии оценивания:**\n",
    "- Задание выполнено верно, учтены все условия (**2 балла**): \n",
    "    * отобраны верные факторы;\n",
    "    * на основе отобранных факторов построена модель линейной регрессии с помощью матричной формулы МНК и найдены параметры модели, соответствующие каждому из факторов;\n",
    "    * построен прогноз для всего обучающего набора данных и рассчитано значение метрики (метрика должна быть выбрана корректно);\n",
    "    * даны ответы на все поставленные в задании вопросы.\n",
    "\n",
    "- Задание выполнено верно, но не учтено одно из условий (**1 балл**).\n",
    "- Задание выполнено верно, не учтено несколько из условий (**0 баллов**)."
   ]
  },
  {
   "cell_type": "code",
   "execution_count": 8,
   "id": "5d5ZJ0lX_UHe",
   "metadata": {
    "id": "5d5ZJ0lX_UHe"
   },
   "outputs": [
    {
     "name": "stdout",
     "output_type": "stream",
     "text": [
      "МНК-оценка коэффициентов новой модели:\n",
      "Por: 293.0\n",
      "AI: -200.0\n",
      "Brittle: 28.0\n",
      "VR: 517.0\n",
      "\n",
      "Метрики MAPE и MAE для оценки качества новой модели:\n",
      "Средняя абсолютная процентная ошибка (MAPE) равна 4.04%\n",
      "Средняя абсолютная ошибка (MAE) равна 171.43146059580926 млн куб. футов/день\n",
      "\n",
      "Сравенение коэффициентов регрессии и корреляции\n",
      "Метрика:                         Por          AI    Brittle          VR\n",
      "Коэффиициент корреляции:     0.86191   -0.390835   0.237155    0.323182\n",
      "Коэффициент регрессии:    293.036246 -200.030912  27.640982  517.402726\n"
     ]
    }
   ],
   "source": [
    "# Ваш код здесь\n",
    "# Создаем матрицу корреляций количественных признаков\n",
    "df_corr_fact = df_corr.drop('Well', axis=1).drop('Well')    # df_corr рассчитано на шаге 5.1\n",
    "\n",
    "# Фильтруем факторы, корреляция которых с целевой переменной меньше 0.05\n",
    "# либо корреляция факторов между друг другом больше 0.7 (оставляем \n",
    "# тот фактор, который больше всего коррелирует с целевой переменной)\n",
    "df_corr_fact = df_corr_fact.query('abs(Prod) > 0.05')\n",
    "\n",
    "strong_corr_fact = set()\n",
    "\n",
    "for ind in df_corr_fact.index:\n",
    "    if ind == 'Prod':\n",
    "        continue\n",
    "    for colmn in df_corr_fact.columns:\n",
    "        if ind == colmn:\n",
    "            continue\n",
    "        elif abs(df_corr_fact.loc[ind, colmn]) > 0.7    \\\n",
    "             and ind not in strong_corr_fact            \\\n",
    "             and ind != top_corr_fact.index[0]:         # top_corr_fact рассчитано на шаге 5.1\n",
    "            strong_corr_fact.add(ind)\n",
    "\n",
    "columns_to_drop = list(strong_corr_fact)\n",
    "columns_to_keep = list(df_corr_fact.drop(columns_to_drop, axis=1).drop('Prod', axis=1).columns)\n",
    "\n",
    "# Создаем новую матрицу с оставшимися факторами\n",
    "df_weak = df[columns_to_keep]\n",
    "\n",
    "# Создаем матрицу наблюдений (факторов) и вектор правильных ответов (целевую переменную)\n",
    "X_weak = np.column_stack((np.ones(200),np.array(df_weak.values)))  \n",
    "y_weak = y    # y рассчитано на шаге 5.2\n",
    "\n",
    "# Вычисляем МНК-оценку для коэффициентов новой модели\n",
    "G1_X_weak = np.linalg.inv(np.dot(X_weak.T, X_weak))\n",
    "b_weak = np.dot(X_weak.T, y_weak)\n",
    "w_weak = np.dot(G1_X_weak, b_weak)\n",
    "\n",
    "# Выводим полученные коэффициенты\n",
    "print('МНК-оценка коэффициентов новой модели:')\n",
    "for fact, coef in zip(columns_to_keep, np.round(w_weak[1:])):\n",
    "    print(f'{fact}: {coef}')\n",
    "print()\n",
    "\n",
    "# Вычисляем прогноз целевой переменной для всех скважин из нового набора данных\n",
    "new_y_weak = np.dot(X_weak, w_weak)\n",
    "\n",
    "# Рассчитаем метрики MAPE и MAE для оценки качества новой модели\n",
    "mape_weak = mean_absolute_percentage_error(y_weak, new_y_weak)*100\n",
    "mae_weak = mean_absolute_error(y_weak, new_y_weak)\n",
    "print('Метрики MAPE и MAE для оценки качества новой модели:')\n",
    "print(f'Средняя абсолютная процентная ошибка (MAPE) равна {mape_weak:.2f}%')\n",
    "print(f'Средняя абсолютная ошибка (MAE) равна {mae_weak} млн куб. футов/день')\n",
    "print()\n",
    "\n",
    "# Подготавливаем данные для сравенения коэффициентов регрессии и корреляции\n",
    "df_weak_correlation = df.drop(columns_to_drop, axis=1).drop('Well', axis=1).corr()['Prod'].drop('Prod')\n",
    "weak_metrics_name = list(df_weak_correlation.index)\n",
    "weak_metrics_correlation = list(df_weak_correlation.values)\n",
    "weak_metrics_coef = list(w_weak[1:])\n",
    "\n",
    "# Создаем сравнительную таблицу\n",
    "compare_weak_table = pd.DataFrame({\n",
    "    'Метрика:': weak_metrics_name,\n",
    "    'Коэффиициент корреляции:': weak_metrics_correlation,\n",
    "    'Коэффициент регрессии:': weak_metrics_coef\n",
    "    })\n",
    "print('Сравенение коэффициентов регрессии и корреляции')\n",
    "print(compare_weak_table.T.to_string(index=True, header=False))"
   ]
  },
  {
   "cell_type": "markdown",
   "id": "KxbYvMDo_WLe",
   "metadata": {
    "id": "KxbYvMDo_WLe"
   },
   "source": [
    "> *Ваши выводы здесь*  \n",
    "> Интерпретация полученных коэффициентов:  \n",
    "> **Увеличение** признака Por на 1 единицу приведет к **увеличению** целевой переменной Prod на 293 пункта,  \n",
    "> **Уменьшение** признака VR на 1 единицу приведет к **уменьшению** целевой переменной Prod на 517 пунктов,  \n",
    "> **Увеличение** признака AI на 1 единицу приведет к **уменьшению** целевой переменной Prod на 200 пунктов.\n",
    "> \n",
    "> Интерпретация полученных метрик:  \n",
    "> В среднем новая регрессионная модель ошибается в расчете целевой переменной на 4.04% против 3.63% у старой модели.  \n",
    "> В среднем новая регрессионная модель ошибается в расчете выработки газа на ≈171 млн куб. футов/день против ≈154 млн куб. футов/день у старой модели.\n",
    ">\n",
    "> В новой модели коэффициенты линейной регрессии не противоречат коэффициентам корреляции.  "
   ]
  },
  {
   "cell_type": "markdown",
   "id": "7d50db12",
   "metadata": {
    "id": "7d50db12"
   },
   "source": [
    "### Задание 5.6. (1 балл)\n",
    "\n",
    "Наконец, давайте построим модель линейной регрессии из библиотеки `scikit-learn (sklearn)` и сравним результаты её работы с теми, что нам удалось получить вручную. \n",
    "\n",
    "Постройте модель линейной регрессии на обновлённых после удаления факторов данных по методу наименьших квадратов. Для этого воспользуйтесь классом `LinearRegression` из библиотеки `sklearn`. Выведите значения полученных коэффициентов, округлённые до целого.\n",
    "\n",
    "Сделайте прогноз для всего обучающего набора данных и рассчитайте значение выбранной вами метрики (или метрик).\n",
    "\n",
    "Сравните результаты библиотечной реализации с тем, что вы получили ранее. "
   ]
  },
  {
   "cell_type": "markdown",
   "id": "emu5D3w278JP",
   "metadata": {
    "id": "emu5D3w278JP"
   },
   "source": [
    "**Критерии оценивания:**\n",
    "\n",
    "- Задание выполнено верно, учтены все условия (**1 балл**): \n",
    "    * на основе отобранных факторов построена модель линейной регрессии из библиотеки sklearn и найдены параметры модели, соответствующие каждому из факторов;\n",
    "    * построен прогноз для всего обучающего набора данных и рассчитано значение метрики (метрика должна быть выбрана корректно);\n",
    "    * приведён вывод о соответствии результатов, полученных вручную и с помощью библиотеки.\n",
    "- Задание выполнено неверно, не учтено одно или несколько условий (**0 баллов**)."
   ]
  },
  {
   "cell_type": "code",
   "execution_count": 9,
   "id": "Gpdpfq59AKGu",
   "metadata": {
    "id": "Gpdpfq59AKGu"
   },
   "outputs": [
    {
     "name": "stdout",
     "output_type": "stream",
     "text": [
      "МНК-оценка коэффициентов sklearn-модели:\n",
      "Por: 293.0\n",
      "AI: -200.0\n",
      "Brittle: 28.0\n",
      "VR: 517.0\n",
      "\n",
      "Метрики MAPE и MAE для оценки качества sklearn-модели:\n",
      "Средняя абсолютная процентная ошибка (MAPE) равна 4.04%\n",
      "Средняя абсолютная ошибка (MAE) равна 171.43146059580795 млн куб. футов/день\n",
      "\n",
      "Сравнение с метриками, полученными ранее:\n",
      "\tsklearn\tnumpy\n",
      "MAPE:\t4.04\t4.04\n",
      "MAE:\t171.43\t171.43\n"
     ]
    }
   ],
   "source": [
    "# Ваш код здесь\n",
    "from sklearn.linear_model import LinearRegression\n",
    "\n",
    "# Создаем матрицу наблюдений (факторов) и вектор правильных ответов (целевую переменную)\n",
    "X_sk = df[columns_to_keep]\n",
    "y_sk = df['Prod']\n",
    "\n",
    "# Создаём модель линейной регрессии\n",
    "model = LinearRegression()\n",
    "\n",
    "# Вычисляем коэффициенты регрессии\n",
    "model.fit(X_sk, y_sk)\n",
    "w_sk = model.coef_\n",
    "\n",
    "# Выводим полученные коэффициенты\n",
    "print('МНК-оценка коэффициентов sklearn-модели:')\n",
    "for fact, coef in zip(X_sk.columns, np.round(w_sk)):\n",
    "    print(f'{fact}: {coef}')\n",
    "print()\n",
    "\n",
    "# Вычисляем прогноз целевой переменной\n",
    "y_new_sk = model.predict(X_sk)\n",
    "\n",
    "# Рассчитаем метрики MAPE и MAE для оценки качества sklearn-модели\n",
    "mape_sk = mean_absolute_percentage_error(y_sk, y_new_sk)*100\n",
    "mae_sk = mean_absolute_error(y_sk, y_new_sk)\n",
    "print('Метрики MAPE и MAE для оценки качества sklearn-модели:')\n",
    "print(f'Средняя абсолютная процентная ошибка (MAPE) равна {mape_sk:.2f}%')\n",
    "print(f'Средняя абсолютная ошибка (MAE) равна {mae_sk} млн куб. футов/день')\n",
    "print()\n",
    "\n",
    "print('Сравнение с метриками, полученными ранее:')\n",
    "print('\\tsklearn\\tnumpy')\n",
    "print(f'MAPE:\\t{mape_sk:.2f}\\t{mape_weak:.2f}')\n",
    "print(f'MAE:\\t{mae_sk:.2f}\\t{mae_weak:.2f}')"
   ]
  },
  {
   "cell_type": "markdown",
   "id": "WT9cdHAbAMG7",
   "metadata": {
    "id": "WT9cdHAbAMG7"
   },
   "source": [
    "> *Ваши выводы здесь*  \n",
    "> Результаты прогнозирования целевой переменной Prod, а также метрики качества совпадают как при ручном построении модели с помощью инструментов numpy, так и при использовании библиотеки sklearn."
   ]
  },
  {
   "cell_type": "markdown",
   "id": "5346338e",
   "metadata": {
    "id": "5346338e"
   },
   "source": [
    "## Практика: полиномиальная регрессия и регуляризация"
   ]
  },
  {
   "cell_type": "markdown",
   "id": "aad9e3a6",
   "metadata": {
    "id": "aad9e3a6"
   },
   "source": [
    "Мы продолжаем работать над задачей от владельца компании «Газ-Таз-Ваз-Нефть» Василия.\n",
    "\n",
    "Ранее мы построили модель линейной регрессии, которая прогнозирует выработку газа на скважине. Для этого мы с помощью матрицы корреляций и рассуждений отобрали некоррелированные, значимые для предсказания признаки. **Далее мы будем использовать именно их (см. задание 5.5).**\n",
    "\n",
    "Мы хотим улучшить результат — уменьшить ошибку прогноза. Для этого мы воспользуемся моделью полиномиальной регрессии третьей степени. Однако теперь мы знаем, что полиномиальным моделям очень легко переобучиться под исходную выборку. Так как данных у нас не так много (всего 200 скважин), то для контроля качества модели мы будем использовать кросс-валидацию. \n",
    "\n",
    "Приступим! Выполните задания 8.1–8.5:\n"
   ]
  },
  {
   "cell_type": "code",
   "execution_count": 10,
   "id": "18506d1b",
   "metadata": {
    "id": "18506d1b"
   },
   "outputs": [],
   "source": [
    "from sklearn.preprocessing import PolynomialFeatures, StandardScaler\n",
    "from sklearn.linear_model import LinearRegression, Lasso, Ridge, ElasticNet\n",
    "from sklearn.model_selection import GridSearchCV\n",
    "from sklearn.model_selection import cross_validate"
   ]
  },
  {
   "cell_type": "markdown",
   "id": "bfbfea8d",
   "metadata": {
    "id": "bfbfea8d"
   },
   "source": [
    "### Задание 8.1. (1 балл)\n",
    "\n",
    "Стандаризируйте признаки с помощью `StandartScaler` из библиотеки `sklearn`. \n",
    "\n",
    "Затем сгенерируйте полиномиальные признаки третьего порядка на факторах, которые вы выбрали для обучения моделей. Для этого воспользуйтесь генератором полиномов `PolynomialFeatures` из библиотеки `sklearn`. Параметр `include_bias` установите в значение `False`.\n",
    "\n",
    "Выведите на экран, сколько факторов у вас получилось после генерации полиномиальных признаков.\n",
    "\n",
    "**Важно:** стандартизацию необходимо произвести до генерации полиномиальных факторов!\n",
    "\n",
    "Обучите модель линейной регрессии из библиотеки `sklearn` (`LinearRegression`) на полученных полиномиальных факторах.\n",
    "\n",
    "Используя кросс-валидацию оцените среднее значение выбранной вами метрики (или метрик) на тренировочных и валидационных фолдах.\n",
    "\n",
    "Проинтерпретируйте полученные результаты."
   ]
  },
  {
   "cell_type": "markdown",
   "id": "Y8oAhQkr8gV-",
   "metadata": {
    "id": "Y8oAhQkr8gV-"
   },
   "source": [
    "**Критерии оценивания:**\n",
    "\n",
    "- Задание выполнено верно, учтены все условия (**1 балл**): \n",
    "    * на основе отобранных факторов сгенерированы полиномиальные признаки третьего порядка;\n",
    "    * построена модель полиномиальной регрессии (линейной регрессии на полиномиальных признаках);\n",
    "    * с помощью кросс-валидации оценено среднее значение выбранной студентом метрики (или метрик) на тренировочных и валидационных фолдах (метрика должна быть выбрана корректно).\n",
    "- Задание выполнено неверно, не учтено одно или несколько из условий (**0 баллов**)."
   ]
  },
  {
   "cell_type": "code",
   "execution_count": 11,
   "id": "-ln3bx8NFNRw",
   "metadata": {
    "id": "-ln3bx8NFNRw"
   },
   "outputs": [
    {
     "name": "stdout",
     "output_type": "stream",
     "text": [
      "Количество факторов: 34\n",
      "MAPE на тренировочных фолдах: 1.77 %\n",
      "MAPE на валидационных фолдах: 2.68 %\n",
      "MAE на тренировочных фолдах: 75.345 млн куб. футов/день\n",
      "MAE на валидационных фолдах: 110.474 млн куб. футов/день\n"
     ]
    }
   ],
   "source": [
    "# Ваш код здесь\n",
    "# Создаем матрицу наблюдений (факторов) и вектор правильных ответов (целевую переменную)\n",
    "X_for_poly = df[columns_to_keep]\n",
    "y_for_poly = df['Prod']\n",
    "\n",
    "# Инициализируем стандартизатор StandardScaler\n",
    "scaler = StandardScaler()\n",
    "\n",
    "# Подгоняем параметры стандартизатора\n",
    "X_scal = scaler.fit_transform(X_for_poly)\n",
    "\n",
    "# Добавляем полиномиальные признаки\n",
    "poly = PolynomialFeatures(degree=3, include_bias=False)\n",
    "X_poly = poly.fit_transform(X_scal)\n",
    "\n",
    "# Выводим количество факторов полученное после генерации полиномиальных признаков\n",
    "print(f'Количество факторов: {X_poly.shape[1]}')\n",
    "\n",
    "# Создаём модель линейной регрессии\n",
    "model = LinearRegression()\n",
    "\n",
    "# Оцениваем качество модели на кросс-валидации\n",
    "cv_results = cross_validate(model, \\\n",
    "                            X_poly, \\\n",
    "                            y_for_poly, \\\n",
    "                            scoring=['neg_mean_absolute_percentage_error', 'neg_mean_absolute_error'], \\\n",
    "                            cv=5, \\\n",
    "                            return_train_score=True)\n",
    "mape_poly_train = -cv_results['train_neg_mean_absolute_percentage_error'].mean() * 100\n",
    "mape_poly_valid = -cv_results['test_neg_mean_absolute_percentage_error'].mean() * 100\n",
    "mae_poly_train = -cv_results['train_neg_mean_absolute_error'].mean()\n",
    "mae_poly_valid = -cv_results['test_neg_mean_absolute_error'].mean()\n",
    "print(f'MAPE на тренировочных фолдах: {mape_poly_train:.2f} %')\n",
    "print(f'MAPE на валидационных фолдах: {mape_poly_valid:.2f} %')\n",
    "print(f'MAE на тренировочных фолдах: {mae_poly_train:.3f} млн куб. футов/день')\n",
    "print(f'MAE на валидационных фолдах: {mae_poly_valid:.3f} млн куб. футов/день')"
   ]
  },
  {
   "cell_type": "markdown",
   "id": "9DkuuLLtFPPy",
   "metadata": {
    "id": "9DkuuLLtFPPy"
   },
   "source": [
    "> *Ваши выводы здесь*  \n",
    "> После добавления полиноминальных признаков третьего порядка, количество факторов в матрице увеличилось с 4 до 34, что позволило улучшить метрики оценки качества MAPE и MAE в ~2 раза.  \n",
    "> При этом разница между метриками на тренировочных и валидационных наборах достигает примерно 1.5 раз, однако в количественном выражении это ~1% либо ~35 млн куб. футов/день, что свидетельствует о некритичном переобучении модели.  "
   ]
  },
  {
   "cell_type": "markdown",
   "id": "63d06013",
   "metadata": {
    "id": "63d06013"
   },
   "source": [
    "### Задание 8.2. (2 балла)\n",
    "\n",
    "Теперь попробуем воспользоваться линейной регрессией с регуляризацией. Для начала возьмём $L_1$-регуляризацию.\n",
    "\n",
    "Обучите модель `Lasso` из библиотеки `sklearn` на полученных полиномиальных факторах, предварительно стандартизировав факторы. \n",
    "\n",
    "Коэффициент регуляризации (`alpha`) подберите самостоятельно с помощью любого известного вам метода подбора гиперпаметров.\n",
    "\n",
    "Используя кросс-валидацию, оцените среднее значение выбранной вами метрики (или метрик) на тренировочных и валидационных фолдах.\n",
    "\n",
    "Проинтерпретируйте полученные результаты."
   ]
  },
  {
   "cell_type": "markdown",
   "id": "z24YUfuA9rUq",
   "metadata": {
    "id": "z24YUfuA9rUq"
   },
   "source": [
    "**Критерии оценивания:**\n",
    "\n",
    "- Задание выполнено верно, учтены все условия (**2 балла**): \n",
    "    * правильно построена модель полиномиальной регрессии (линейной регрессии на полиномиальных признаках) с регуляризацией (Lasso), учтены условия необходимости масштабирования факторов для построения модели;\n",
    "    * приведён код для подбора параметра регуляризации (вручную или с помощью библиотечных инструментов);\n",
    "    * с помощью кросс-валидации оценено среднее значение выбранной студентом метрики (или метрик) на тренировочных и валидационных фолдах (метрика должна быть выбрана корректно).\n",
    "\n",
    "- Задание выполнено верно, но не учтено одно из условий (**1 балл**).\n",
    "- Задание выполнено неверно, не учтено несколько условий (**0 баллов**)."
   ]
  },
  {
   "cell_type": "code",
   "execution_count": 12,
   "id": "IJ5b5G8qFz-r",
   "metadata": {
    "id": "IJ5b5G8qFz-r"
   },
   "outputs": [
    {
     "name": "stdout",
     "output_type": "stream",
     "text": [
      "Подобранное с помощью GridSearchCV значение alpha: 10.0\n",
      "MAPE на тренировочных фолдах для Lasso: 1.95 %\n",
      "MAPE на валидационных фолдах для Lasso: 2.38 %\n",
      "MAE на тренировочных фолдах для Lasso: 83.378 млн куб. футов/день\n",
      "MAE на валидационных фолдах для Lasso: 99.992 млн куб. футов/день\n"
     ]
    }
   ],
   "source": [
    "# Ваш код здесь\n",
    "# Создаем матрицу наблюдений (факторов) и вектор правильных ответов (целевую переменную)\n",
    "X_for_Lasso = df[columns_to_keep]\n",
    "y_for_Lasso = df['Prod']\n",
    "\n",
    "# Инициализируем стандартизатор StandardScaler\n",
    "scaler = StandardScaler()\n",
    "\n",
    "# Подгоняем параметры стандартизатора\n",
    "X_scal_Lasso = scaler.fit_transform(X_for_Lasso)\n",
    "\n",
    "# Добавляем полиномиальные признаки\n",
    "poly = PolynomialFeatures(degree=3, include_bias=False)\n",
    "X_poly_Lasso = poly.fit_transform(X_scal_Lasso)\n",
    "\n",
    "# Определяем лучшее значение alpha с помощью GridSearchCV\n",
    "alpha_range = [0.001, 0.01, 0.1, 1.0, 10.0]\n",
    "param_grid = {'alpha': alpha_range}\n",
    "grid_search = GridSearchCV(Lasso(max_iter=10000), \\\n",
    "                           param_grid, \\\n",
    "                           cv=5, \\\n",
    "                           scoring='neg_mean_absolute_error', \\\n",
    "                           n_jobs=16)\n",
    "grid_search.fit(X_poly_Lasso, y_for_Lasso)\n",
    "best_alpha_lasso = grid_search.best_params_['alpha']\n",
    "print(f'Подобранное с помощью GridSearchCV значение alpha: {best_alpha_lasso}')\n",
    "\n",
    "# Создаём модель регрессии c L1-регуляризацией\n",
    "lasso = Lasso(alpha=best_alpha_lasso, max_iter=10000)\n",
    "\n",
    "# Оцениваем качество модели на кросс-валидации\n",
    "cv_results_lasso = cross_validate(lasso, \\\n",
    "                            X_poly_Lasso, \\\n",
    "                            y_for_Lasso, \\\n",
    "                            scoring=['neg_mean_absolute_percentage_error', 'neg_mean_absolute_error'], \\\n",
    "                            cv=5, \\\n",
    "                            return_train_score=True)\n",
    "mape_lasso_train = -cv_results_lasso['train_neg_mean_absolute_percentage_error'].mean() * 100\n",
    "mape_lasso_valid = -cv_results_lasso['test_neg_mean_absolute_percentage_error'].mean() * 100\n",
    "mae_lasso_train = -cv_results_lasso['train_neg_mean_absolute_error'].mean()\n",
    "mae_lasso_valid = -cv_results_lasso['test_neg_mean_absolute_error'].mean()\n",
    "print(f'MAPE на тренировочных фолдах для Lasso: {mape_lasso_train:.2f} %')\n",
    "print(f'MAPE на валидационных фолдах для Lasso: {mape_lasso_valid:.2f} %')\n",
    "print(f'MAE на тренировочных фолдах для Lasso: {mae_lasso_train:.3f} млн куб. футов/день')\n",
    "print(f'MAE на валидационных фолдах для Lasso: {mae_lasso_valid:.3f} млн куб. футов/день')"
   ]
  },
  {
   "cell_type": "markdown",
   "id": "Se0OGR8UF2Td",
   "metadata": {
    "id": "Se0OGR8UF2Td"
   },
   "source": [
    "> *Ваши выводы здесь*  \n",
    "> Регуляризация с помощью Lasso позволила сократить разницу между оценочными метриками на тренировочных и валидационных наборах до ~0.4% или ~17 млн куб. футов/день.  \n",
    "> Несмотря на то, что оценочные метрики на тренировочных наборах незначительно ухудшились (на ~0.17%), значения оценочных метрик на валидационных наборах наоборот стали лучше, что свидетельствует о некотором уменьшении переобучения."
   ]
  },
  {
   "cell_type": "markdown",
   "id": "2975ae60",
   "metadata": {
    "id": "2975ae60"
   },
   "source": [
    "### Задание 8.3. (2 балла)\n",
    "\n",
    "Проделаем то же самое с $L_2$-регуляризацией.\n",
    "\n",
    "Обучите модель `Ridge` из библиотеки `sklearn` на полученных полиномиальных факторах, предварительно стандартизировав факторы. \n",
    "\n",
    "Коэффициент регуляризации (`alpha`) подберите самостоятельно с помощью любого известного вам метода подбора гиперпаметров.\n",
    "\n",
    "Используя кросс-валидацию оцените среднее значение выбранной вами метрики (или метрик) на тренировочных и валидационных фолдах.\n",
    "\n",
    "Проинтерпретируйте полученные результаты."
   ]
  },
  {
   "cell_type": "code",
   "execution_count": 13,
   "id": "UfPGyNsjGGS8",
   "metadata": {
    "id": "UfPGyNsjGGS8"
   },
   "outputs": [
    {
     "name": "stdout",
     "output_type": "stream",
     "text": [
      "Подобранное с помощью GridSearchCV значение alpha: 0.1\n",
      "MAPE на тренировочных фолдах для Ridge: 1.77 %\n",
      "MAPE на валидационных фолдах для Ridge: 2.67 %\n",
      "MAE на тренировочных фолдах для Ridge: 75.324 млн куб. футов/день\n",
      "MAE на валидационных фолдах для Ridge: 110.138 млн куб. футов/день\n"
     ]
    }
   ],
   "source": [
    "# Ваш код здесь\n",
    "# Создаем матрицу наблюдений (факторов) и вектор правильных ответов (целевую переменную)\n",
    "X_for_Ridge = df[columns_to_keep]\n",
    "y_for_Ridge = df['Prod']\n",
    "\n",
    "# Инициализируем стандартизатор StandardScaler\n",
    "scaler = StandardScaler()\n",
    "\n",
    "# Подгоняем параметры стандартизатора\n",
    "X_scal_Ridge = scaler.fit_transform(X_for_Ridge)\n",
    "\n",
    "# Добавляем полиномиальные признаки\n",
    "poly = PolynomialFeatures(degree=3, include_bias=False)\n",
    "X_poly_Ridge = poly.fit_transform(X_scal_Ridge)\n",
    "\n",
    "# Определяем лучшее значение alpha с помощью GridSearchCV\n",
    "alpha_range = [0.001, 0.01, 0.1, 1.0, 10.0]\n",
    "param_grid = {'alpha': alpha_range}\n",
    "grid_search = GridSearchCV(Ridge(solver='auto'), \\\n",
    "                           param_grid, \\\n",
    "                           cv=5, \\\n",
    "                           scoring='neg_mean_absolute_error', \\\n",
    "                           n_jobs=16)\n",
    "grid_search.fit(X_poly_Ridge, y_for_Ridge)\n",
    "best_alpha_ridge = grid_search.best_params_['alpha']\n",
    "print(f'Подобранное с помощью GridSearchCV значение alpha: {best_alpha_ridge}')\n",
    "\n",
    "# Создаём модель регрессии c L2-регуляризацией\n",
    "ridge = Ridge(alpha=best_alpha_ridge, solver='auto')\n",
    "\n",
    "# Оцениваем качество модели на кросс-валидации\n",
    "cv_results_ridge = cross_validate(ridge, \\\n",
    "                            X_poly_Ridge, \\\n",
    "                            y_for_Ridge, \\\n",
    "                            scoring=['neg_mean_absolute_percentage_error', 'neg_mean_absolute_error'], \\\n",
    "                            cv=5, \\\n",
    "                            return_train_score=True)\n",
    "mape_ridge_train = -cv_results_ridge['train_neg_mean_absolute_percentage_error'].mean() * 100\n",
    "mape_ridge_valid = -cv_results_ridge['test_neg_mean_absolute_percentage_error'].mean() * 100\n",
    "mae_ridge_train = -cv_results_ridge['train_neg_mean_absolute_error'].mean()\n",
    "mae_ridge_valid = -cv_results_ridge['test_neg_mean_absolute_error'].mean()\n",
    "print(f'MAPE на тренировочных фолдах для Ridge: {mape_ridge_train:.2f} %')\n",
    "print(f'MAPE на валидационных фолдах для Ridge: {mape_ridge_valid:.2f} %')\n",
    "print(f'MAE на тренировочных фолдах для Ridge: {mae_ridge_train:.3f} млн куб. футов/день')\n",
    "print(f'MAE на валидационных фолдах для Ridge: {mae_ridge_valid:.3f} млн куб. футов/день')"
   ]
  },
  {
   "cell_type": "markdown",
   "id": "dQBd7ny_GIi1",
   "metadata": {
    "id": "dQBd7ny_GIi1"
   },
   "source": [
    "> *Ваши выводы здесь*  \n",
    "> Регуляризация с помощью Ridge практически не дала улучшения оценочных метрик по сравнению с обычной регрессией с учетом полиномиальных признаков третьего порядка. В сравнении же с Lasso, разницу между оценочными метриками на тренировочных и валидационных наборах увеличилась.  \n",
    "> Из этого можем сделать вывод, что модель линейной регрессии уже достаточно хороша для данной задачи и добавление L2-регуляризации не дает никаких преимуществ."
   ]
  },
  {
   "cell_type": "markdown",
   "id": "86pXnWE7-5ch",
   "metadata": {
    "id": "86pXnWE7-5ch"
   },
   "source": [
    "**Критерии оценивания:**\n",
    "\n",
    "- Задание выполнено верно, учтены все условия (**2 балла**): \n",
    "    * правильно построена модель полиномиальной регрессии (линейной регрессии на полиномиальных признаках) с регуляризацией (Ridge), учтены условия необходимости масштабирования факторов для построения модели;\n",
    "    * приведён код для подбора параметра регуляризации (вручную или с помощью библиотечных инструментов);\n",
    "    * с помощью кросс-валидации оценено среднее значение выбранной студентом метрики (или метрик) на тренировочных и валидационных фолдах (метрика должна быть выбрана корректно).\n",
    "\n",
    "- Задание выполнено верно, но не учтено одно из условий (**1 балл**).\n",
    "- Задание выполнено неверно, не учтено несколько условий (**0 баллов**)."
   ]
  },
  {
   "cell_type": "markdown",
   "id": "7ad85b78",
   "metadata": {
    "id": "7ad85b78"
   },
   "source": [
    "### Задание 8.4. (2 балла)\n",
    "\n",
    "Наконец, настало время комбинировать $L_1$ и $L_2$ -регуляризации.\n",
    "\n",
    "Обучите модель `ElasticNet` из библиотеки `sklearn` на полученных полиномиальных факторах, предварительно стандартизировав факторы. \n",
    "\n",
    "Коэффициенты регуляризации (`alpha` и `l1-ratio`) подберите самостоятельно с помощью любого известного вам метода подбора гиперпаметров.\n",
    "\n",
    "Используя кросс-валидацию, оцените среднее значение метрики MAPE на тренировочных и валидационных фолдах.\n",
    "\n",
    "Проинтерпретируйте полученные результаты."
   ]
  },
  {
   "cell_type": "markdown",
   "id": "sy8ESceQ-__u",
   "metadata": {
    "id": "sy8ESceQ-__u"
   },
   "source": [
    "**Критерии оценивания:**\n",
    "\n",
    "- Задание выполнено верно, учтены все условия (**2 балла**): \n",
    "    * правильно построена модель полиномиальной регрессии (линейной регрессии на полиномиальных признаках) с регуляризацией (ElasticNet), учтены условия необходимости масштабирования факторов для построения модели;\n",
    "    * приведён код для подбора параметра регуляризации (вручную или с помощью библиотечных инструментов);\n",
    "    * с помощью кросс-валидации оценено среднее значение выбранной студентом метрики (или метрик) на тренировочных и валидационных фолдах (метрика должна быть выбрана корректно).\n",
    "\n",
    "- Задание выполнено верно, но не учтено одно из условий (**1 балл**).\n",
    "- Задание выполнено неверно, не учтено несколько условий (**0 баллов**)."
   ]
  },
  {
   "cell_type": "code",
   "execution_count": 14,
   "id": "-Yi3P20hQnLS",
   "metadata": {
    "id": "-Yi3P20hQnLS"
   },
   "outputs": [
    {
     "name": "stdout",
     "output_type": "stream",
     "text": [
      "Подобранное с помощью GridSearchCV значение alpha: 0.01\n",
      "Подобранное с помощью GridSearchCV значение l1_ratio: 0.9\n",
      "MAPE на тренировочных фолдах для Ridge: 1.77 %\n",
      "MAPE на валидационных фолдах для Ridge: 2.67 %\n",
      "MAE на тренировочных фолдах для Ridge: 75.355 млн куб. футов/день\n",
      "MAE на валидационных фолдах для Ridge: 109.949 млн куб. футов/день\n"
     ]
    }
   ],
   "source": [
    "# Ваш код здесь\n",
    "# Создаем матрицу наблюдений (факторов) и вектор правильных ответов (целевую переменную)\n",
    "X_for_Elastic = df[columns_to_keep]\n",
    "y_for_Elastic = df['Prod']\n",
    "\n",
    "# Инициализируем стандартизатор StandardScaler\n",
    "scaler = StandardScaler()\n",
    "\n",
    "# Подгоняем параметры стандартизатора\n",
    "X_scal_Elastic = scaler.fit_transform(X_for_Elastic)\n",
    "\n",
    "# Добавляем полиномиальные признаки\n",
    "poly = PolynomialFeatures(degree=3, include_bias=False)\n",
    "X_poly_Elastic = poly.fit_transform(X_scal_Elastic)\n",
    "\n",
    "# Определяем лучшее значение alpha и l1_ratio с помощью GridSearchCV\n",
    "alpha_range = [0.001, 0.01, 0.1, 1.0, 10.0]\n",
    "ratio_range = [i/10 for i in range(1,10)]\n",
    "param_grid = {'alpha': alpha_range, 'l1_ratio': ratio_range}\n",
    "\n",
    "elastic = ElasticNet(max_iter=10000)\n",
    "\n",
    "grid_search = GridSearchCV(elastic, \\\n",
    "                           param_grid, \\\n",
    "                           cv=5, \\\n",
    "                           scoring='neg_mean_absolute_error', \\\n",
    "                           n_jobs=16)\n",
    "grid_search.fit(X_poly_Elastic, y_for_Elastic)\n",
    "\n",
    "best_alpha_elastic = grid_search.best_params_['alpha']\n",
    "best_ratio_elastic = grid_search.best_params_['l1_ratio']\n",
    "print(f'Подобранное с помощью GridSearchCV значение alpha: {best_alpha_elastic}')\n",
    "print(f'Подобранное с помощью GridSearchCV значение l1_ratio: {best_ratio_elastic}')\n",
    "\n",
    "# Создаём модель регрессии c комибнированием L1- и L2-регуляризаций\n",
    "elastic = ElasticNet(alpha=best_alpha_elastic, l1_ratio=best_ratio_elastic, max_iter=10000)\n",
    "\n",
    "# Оцениваем качество модели на кросс-валидации\n",
    "cv_results_elastic = cross_validate(elastic, \\\n",
    "                            X_poly_Elastic, \\\n",
    "                            y_for_Elastic, \\\n",
    "                            scoring=['neg_mean_absolute_percentage_error', 'neg_mean_absolute_error'], \\\n",
    "                            cv=5, \\\n",
    "                            return_train_score=True)\n",
    "mape_elastic_train = -cv_results_elastic['train_neg_mean_absolute_percentage_error'].mean() * 100\n",
    "mape_elastic_valid = -cv_results_elastic['test_neg_mean_absolute_percentage_error'].mean() * 100\n",
    "mae_elastic_train = -cv_results_elastic['train_neg_mean_absolute_error'].mean()\n",
    "mae_elastic_valid = -cv_results_elastic['test_neg_mean_absolute_error'].mean()\n",
    "print(f'MAPE на тренировочных фолдах для Ridge: {mape_elastic_train:.2f} %')\n",
    "print(f'MAPE на валидационных фолдах для Ridge: {mape_elastic_valid:.2f} %')\n",
    "print(f'MAE на тренировочных фолдах для Ridge: {mae_elastic_train:.3f} млн куб. футов/день')\n",
    "print(f'MAE на валидационных фолдах для Ridge: {mae_elastic_valid:.3f} млн куб. футов/день')"
   ]
  },
  {
   "cell_type": "markdown",
   "id": "er2lAiE9QpAb",
   "metadata": {
    "id": "er2lAiE9QpAb"
   },
   "source": [
    "> *Ваши выводы здесь*  \n",
    "> Не смотря на высокое значение коэффициента l1_ratio = 0.9, свидетельствующее о преобладании L1-регуляризации, коэффициент регуляризации alpha имеет низкое значение = 0.01. Подобные параметры приводят к результатам оценочных метрик, аналогичным использованию исключительно L2-регуляризации, которые в свою очередь практически идентичны результатам обычной регрессии с учетом полиномиальных признаков третьего порядка.  \n",
    "> Разница между средним значением метрики MAPE при комбинировании L1- и L2-регуляризации на тренировочных и валидационных наборах достигает примерно 1.5 раз, однако в количественном выражении это ~1%, что свидетельствует о некритичном переобучении модели."
   ]
  },
  {
   "cell_type": "markdown",
   "id": "91c6e1d1",
   "metadata": {
    "id": "91c6e1d1"
   },
   "source": [
    "### Задание 8.5. (1 балл)\n",
    "\n",
    "Завершением вашей работы будет сводная таблица результатов, которую вы представите на презентации заказчику Василию.\n",
    "\n",
    "Составьте таблицу (DataFrame) со следующими столбцами (имена столбцов выберите самостоятельно):\n",
    "* Наименование модели.\n",
    "* Гиперпараметры (коэффициенты регуляризации, если таковые имеются), если нет — оставьте ячейку пустой.\n",
    "* Использовались ли полиномиальные признаки при построении модели (Да/Нет или True/False).\n",
    "* Значение выбранной метрики на тренировочных фолдах при кросс-валидации модели.\n",
    "* Значение выбранной метрики на валидационных фолдах при кросс-валидации модели.\n",
    "\n",
    "Сделайте финальный вывод по проделанной работе. Какая линейная модель из тех, что мы рассмотрели, показала наилучший результат с точки зрения качества на валидационных фолдах, а также с точки зрения переобученности?"
   ]
  },
  {
   "cell_type": "markdown",
   "id": "OsFRaKkF_nLq",
   "metadata": {
    "id": "OsFRaKkF_nLq"
   },
   "source": [
    "**Критерии оценивания:**\n",
    "\n",
    "- Задание выполнено верно, учтены все условия (**1 балл**): \n",
    "    * верно составлена сводная таблица итоговых результатов построенных ранее моделей с указанными в задании столбцами;\n",
    "    * приведены итоговые выводы по проделанной работе, указано, какая из рассмотренных моделей показала наилучший результат.\n",
    "\n",
    "- Задание выполнено неверно, не учтено одно или несколько условий (**0 баллов**)."
   ]
  },
  {
   "cell_type": "code",
   "execution_count": 15,
   "id": "wRiys8lKQuqW",
   "metadata": {
    "id": "wRiys8lKQuqW"
   },
   "outputs": [
    {
     "data": {
      "text/html": [
       "<div>\n",
       "<style scoped>\n",
       "    .dataframe tbody tr th:only-of-type {\n",
       "        vertical-align: middle;\n",
       "    }\n",
       "\n",
       "    .dataframe tbody tr th {\n",
       "        vertical-align: top;\n",
       "    }\n",
       "\n",
       "    .dataframe thead th {\n",
       "        text-align: right;\n",
       "    }\n",
       "</style>\n",
       "<table border=\"1\" class=\"dataframe\">\n",
       "  <thead>\n",
       "    <tr style=\"text-align: right;\">\n",
       "      <th></th>\n",
       "      <th>Модель</th>\n",
       "      <th>Гиперпараметры</th>\n",
       "      <th>Полиноминальные признаки</th>\n",
       "      <th>MAPE (тренировочные)</th>\n",
       "      <th>MAPE (валидационные)</th>\n",
       "    </tr>\n",
       "  </thead>\n",
       "  <tbody>\n",
       "    <tr>\n",
       "      <th>Numpy</th>\n",
       "      <td>Numpy</td>\n",
       "      <td>-</td>\n",
       "      <td>Нет</td>\n",
       "      <td>4.04%</td>\n",
       "      <td>-</td>\n",
       "    </tr>\n",
       "    <tr>\n",
       "      <th>Sklearn Lin</th>\n",
       "      <td>Sklearn Lin</td>\n",
       "      <td>-</td>\n",
       "      <td>Нет</td>\n",
       "      <td>4.04%</td>\n",
       "      <td>-</td>\n",
       "    </tr>\n",
       "    <tr>\n",
       "      <th>Sklearn Poly</th>\n",
       "      <td>Sklearn Poly</td>\n",
       "      <td>-</td>\n",
       "      <td>Да</td>\n",
       "      <td>1.77%</td>\n",
       "      <td>2.68%</td>\n",
       "    </tr>\n",
       "    <tr>\n",
       "      <th>Lasso</th>\n",
       "      <td>Lasso</td>\n",
       "      <td>alpha = 10.0</td>\n",
       "      <td>Да</td>\n",
       "      <td>1.95%</td>\n",
       "      <td>2.38%</td>\n",
       "    </tr>\n",
       "    <tr>\n",
       "      <th>Ridge</th>\n",
       "      <td>Ridge</td>\n",
       "      <td>alpha = 0.1</td>\n",
       "      <td>Да</td>\n",
       "      <td>1.77%</td>\n",
       "      <td>2.67%</td>\n",
       "    </tr>\n",
       "    <tr>\n",
       "      <th>ElasticNet</th>\n",
       "      <td>ElasticNet</td>\n",
       "      <td>alpha = 0.01, l1_ratio = 0.9</td>\n",
       "      <td>Да</td>\n",
       "      <td>1.77%</td>\n",
       "      <td>2.67%</td>\n",
       "    </tr>\n",
       "  </tbody>\n",
       "</table>\n",
       "</div>"
      ],
      "text/plain": [
       "                    Модель                Гиперпараметры  \\\n",
       "Numpy                Numpy                             -   \n",
       "Sklearn Lin    Sklearn Lin                             -   \n",
       "Sklearn Poly  Sklearn Poly                             -   \n",
       "Lasso                Lasso                  alpha = 10.0   \n",
       "Ridge                Ridge                   alpha = 0.1   \n",
       "ElasticNet      ElasticNet  alpha = 0.01, l1_ratio = 0.9   \n",
       "\n",
       "             Полиноминальные признаки MAPE (тренировочные)  \\\n",
       "Numpy                             Нет                4.04%   \n",
       "Sklearn Lin                       Нет                4.04%   \n",
       "Sklearn Poly                       Да                1.77%   \n",
       "Lasso                              Да                1.95%   \n",
       "Ridge                              Да                1.77%   \n",
       "ElasticNet                         Да                1.77%   \n",
       "\n",
       "             MAPE (валидационные)  \n",
       "Numpy                           -  \n",
       "Sklearn Lin                     -  \n",
       "Sklearn Poly                2.68%  \n",
       "Lasso                       2.38%  \n",
       "Ridge                       2.67%  \n",
       "ElasticNet                  2.67%  "
      ]
     },
     "execution_count": 15,
     "metadata": {},
     "output_type": "execute_result"
    }
   ],
   "source": [
    "# Ваш код здесь\n",
    "models_list = ['Numpy', \n",
    "               'Sklearn Lin', \n",
    "               'Sklearn Poly', \n",
    "               'Lasso', \n",
    "               'Ridge', \n",
    "               'ElasticNet']\n",
    "\n",
    "hyper_list = ['-','-','-',\n",
    "              f'alpha = {best_alpha_lasso}',\n",
    "              f'alpha = {best_alpha_ridge}',\n",
    "              f'alpha = {best_alpha_elastic}, l1_ratio = {best_ratio_elastic}']\n",
    "\n",
    "poly_list = ['Нет',\n",
    "             'Нет',\n",
    "             'Да','Да','Да','Да']\n",
    "\n",
    "mape_train = [f'{mape_weak:.2f}%', \n",
    "              f'{mape_sk:.2f}%', \n",
    "              f'{mape_poly_train:.2f}%', \n",
    "              f'{mape_lasso_train:.2f}%', \n",
    "              f'{mape_ridge_train:.2f}%', \n",
    "              f'{mape_elastic_train:.2f}%']\n",
    "\n",
    "mape_valid = [f'-', \n",
    "              f'-', \n",
    "              f'{mape_poly_valid:.2f}%', \n",
    "              f'{mape_lasso_valid:.2f}%', \n",
    "              f'{mape_ridge_valid:.2f}%', \n",
    "              f'{mape_elastic_valid:.2f}%']\n",
    "\n",
    "pivot_table = pd.DataFrame({\n",
    "    'Модель': models_list ,\n",
    "    'Гиперпараметры': hyper_list ,\n",
    "    'Полиноминальные признаки': poly_list ,\n",
    "    'MAPE (тренировочные)': mape_train,\n",
    "    'MAPE (валидационные)': mape_valid\n",
    "    }, index=models_list)\n",
    "\n",
    "pivot_table"
   ]
  },
  {
   "cell_type": "markdown",
   "id": "UP7_LSoEQsrA",
   "metadata": {
    "id": "UP7_LSoEQsrA"
   },
   "source": [
    "> *Ваши выводы здесь*  \n",
    "> В результате проделанной работы были проанализированы следующие модели:\n",
    "> - Ручная модель линейной регрессии с помощью инструментов библиотеки numpy,\n",
    "> - Модель линейной регрессии с помощью инструментов библиотеки sklearn,\n",
    "> - Модель полиноминальной регрессии,\n",
    "> - Модель полиноминальной регрессии с L1-регулязиацией,\n",
    "> - Модель полиноминальной регрессии с L2-регулязиацией,\n",
    "> - Модель полиноминальной регрессии с комбинированием L1- и L2-регулязиаций.\n",
    ">\n",
    "> В процессе построении моделей были отброшены сильно коррелированные между собой факторы (значение корреляции больше 0.7), а также факторы, для которых корреляция с целевой переменной была меньше 0.05.\n",
    "> Такими факторами были: Perm — проницаемость скважины и TOC — общий органический углерод (%).\n",
    ">\n",
    "> Для оценки качества работы моделей были выбраны метрики MAPE (Средняя абсолютная процентная ошибка, %) и МАЕ (Средняя абсолютная ошибка, млн куб. футов/день), показывающие на сколько в среднем модель ошибается в своих предсказаниях.\n",
    "> \n",
    "> С точки зрения качества на валидационных фолдах, лучше всего себя показала модель полиноминальной регрессии с L1-регулязиацией (Lasso) с величиной оценочной метрики MAPE = 2.38%.  \n",
    "> С точки зрения переобученности, так же лучше всего себя показала модель полиноминальной регрессии с L1-регулязиацией (Lasso), продемонстрировав наименьшую разницу между значением метрики MAPE на тренировочных и валидационных фолдах (0.43%)."
   ]
  },
  {
   "cell_type": "code",
   "execution_count": null,
   "id": "752d4445-6a85-4cfb-b520-7b7b0f9a5b20",
   "metadata": {
    "id": "752d4445-6a85-4cfb-b520-7b7b0f9a5b20"
   },
   "outputs": [],
   "source": []
  }
 ],
 "metadata": {
  "colab": {
   "provenance": []
  },
  "kernelspec": {
   "display_name": "Python 3 (ipykernel)",
   "language": "python",
   "name": "python3"
  },
  "language_info": {
   "codemirror_mode": {
    "name": "ipython",
    "version": 3
   },
   "file_extension": ".py",
   "mimetype": "text/x-python",
   "name": "python",
   "nbconvert_exporter": "python",
   "pygments_lexer": "ipython3",
   "version": "3.10.6"
  },
  "vscode": {
   "interpreter": {
    "hash": "86c56a74836ad344b00594bf6f38fa6a676a207ceefe20d101fbc465800ccb8d"
   }
  }
 },
 "nbformat": 4,
 "nbformat_minor": 5
}
